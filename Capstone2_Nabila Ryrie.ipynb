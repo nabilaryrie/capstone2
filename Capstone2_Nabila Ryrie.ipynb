{
 "cells": [
  {
   "cell_type": "markdown",
   "metadata": {},
   "source": [
    "# **TransJakarta Customer Profile and Profitization Analysis**"
   ]
  },
  {
   "cell_type": "markdown",
   "metadata": {},
   "source": [
    "## **Importing Libraries and Dataset**"
   ]
  },
  {
   "cell_type": "code",
   "execution_count": 1,
   "metadata": {},
   "outputs": [],
   "source": [
    "import numpy as np \n",
    "import pandas as pd \n",
    "import seaborn as sns\n",
    "import matplotlib.pyplot as plt\n",
    "from datetime import datetime"
   ]
  },
  {
   "cell_type": "code",
   "execution_count": 2,
   "metadata": {},
   "outputs": [
    {
     "data": {
      "text/html": [
       "<div>\n",
       "<style scoped>\n",
       "    .dataframe tbody tr th:only-of-type {\n",
       "        vertical-align: middle;\n",
       "    }\n",
       "\n",
       "    .dataframe tbody tr th {\n",
       "        vertical-align: top;\n",
       "    }\n",
       "\n",
       "    .dataframe thead th {\n",
       "        text-align: right;\n",
       "    }\n",
       "</style>\n",
       "<table border=\"1\" class=\"dataframe\">\n",
       "  <thead>\n",
       "    <tr style=\"text-align: right;\">\n",
       "      <th></th>\n",
       "      <th>transID</th>\n",
       "      <th>payCardID</th>\n",
       "      <th>payCardBank</th>\n",
       "      <th>payCardName</th>\n",
       "      <th>payCardSex</th>\n",
       "      <th>payCardBirthDate</th>\n",
       "      <th>corridorID</th>\n",
       "      <th>corridorName</th>\n",
       "      <th>direction</th>\n",
       "      <th>tapInStops</th>\n",
       "      <th>...</th>\n",
       "      <th>tapInStopsLon</th>\n",
       "      <th>stopStartSeq</th>\n",
       "      <th>tapInTime</th>\n",
       "      <th>tapOutStops</th>\n",
       "      <th>tapOutStopsName</th>\n",
       "      <th>tapOutStopsLat</th>\n",
       "      <th>tapOutStopsLon</th>\n",
       "      <th>stopEndSeq</th>\n",
       "      <th>tapOutTime</th>\n",
       "      <th>payAmount</th>\n",
       "    </tr>\n",
       "  </thead>\n",
       "  <tbody>\n",
       "    <tr>\n",
       "      <th>0</th>\n",
       "      <td>EIIW227B8L34VB</td>\n",
       "      <td>180062659848800</td>\n",
       "      <td>emoney</td>\n",
       "      <td>Bajragin Usada</td>\n",
       "      <td>M</td>\n",
       "      <td>2008</td>\n",
       "      <td>5</td>\n",
       "      <td>Matraman Baru - Ancol</td>\n",
       "      <td>1.0</td>\n",
       "      <td>P00142</td>\n",
       "      <td>...</td>\n",
       "      <td>106.84402</td>\n",
       "      <td>7</td>\n",
       "      <td>2023-04-03 05:21:44</td>\n",
       "      <td>P00253</td>\n",
       "      <td>Tegalan</td>\n",
       "      <td>-6.203101</td>\n",
       "      <td>106.85715</td>\n",
       "      <td>12.0</td>\n",
       "      <td>2023-04-03 06:00:53</td>\n",
       "      <td>3500.0</td>\n",
       "    </tr>\n",
       "  </tbody>\n",
       "</table>\n",
       "<p>1 rows × 22 columns</p>\n",
       "</div>"
      ],
      "text/plain": [
       "          transID        payCardID payCardBank     payCardName payCardSex  \\\n",
       "0  EIIW227B8L34VB  180062659848800      emoney  Bajragin Usada          M   \n",
       "\n",
       "   payCardBirthDate corridorID           corridorName  direction tapInStops  \\\n",
       "0              2008          5  Matraman Baru - Ancol        1.0     P00142   \n",
       "\n",
       "   ... tapInStopsLon  stopStartSeq            tapInTime  tapOutStops  \\\n",
       "0  ...     106.84402             7  2023-04-03 05:21:44       P00253   \n",
       "\n",
       "  tapOutStopsName tapOutStopsLat tapOutStopsLon  stopEndSeq  \\\n",
       "0         Tegalan      -6.203101      106.85715        12.0   \n",
       "\n",
       "            tapOutTime  payAmount  \n",
       "0  2023-04-03 06:00:53     3500.0  \n",
       "\n",
       "[1 rows x 22 columns]"
      ]
     },
     "execution_count": 2,
     "metadata": {},
     "output_type": "execute_result"
    }
   ],
   "source": [
    "df = pd.read_csv('Transjakarta.csv')\n",
    "df.head(1)"
   ]
  },
  {
   "cell_type": "markdown",
   "metadata": {},
   "source": [
    "## **Background of the Analysis**"
   ]
  },
  {
   "cell_type": "markdown",
   "metadata": {},
   "source": [
    "### Background\n",
    "\n",
    "TransJakarta, or Jakarta BRT is a bus rapid transit (BRT) system that operates in Jakarta, Indonesia. As the first BRT System in Southeast Asia, it commenced operations on 15 January 2004 to provide a fast public transport system to help reduce rush hour traffic. The system implements dedicated bus lanes that are separated from regular traffic roads called \"corridors\", to ensure smoother and faster travel for passengers. These corridors have expanded to cover more areas of the city as passenger rates skyrocket, with plans for further expansion in the future.\n",
    "\n",
    "TransJakarta is now integrated with other modes of public transportation, including feeder buses and Jakarta Mass Rapid Transit (MRT) trains, allowing passengers to seamlessly transfer between different modes of transit to reach their destinations. \n",
    "\n",
    "The introduction of TransJakarta has helped reduce traffic congestion, cut down travel times for commuters and mitigat the city's carbon footprints by encouraging public transport as opposed to private vehicles. "
   ]
  },
  {
   "cell_type": "markdown",
   "metadata": {},
   "source": [
    "### Goals\n",
    "\n",
    "Based on statistical data found in https://ppid.transjakarta.co.id/lihat/20200910154558, there has been a significant increase in passenger count and route from when TransJakarta first operated in 2004. In order to accomodate the rising amount of passengers and ensuring they receive the optimal TransJakarta experience, how are we able to improve our passenger's experience and optimize payment options for profit?"
   ]
  },
  {
   "cell_type": "markdown",
   "metadata": {},
   "source": [
    "### Potential Analysis\n",
    "\n",
    "- Route Expansion\n",
    "    - identify and create new routes to cover areas with high transport duration \n",
    "- Payment and Ticketing\n",
    "    - Determine which payment options is mostly used and how to optimize the payment options for profit increase\n",
    "    - Improving outdated payment systems if any \n",
    "- Corridor Efficiency \n",
    "    - Find out which corridor has the most congestion based on hours in the week and weekends to improve corridor traffic or when to add armada\n",
    "- Gender and Age Differences\n",
    "    - View the demographic of TransJakarta users for marketing options and strategies, as well as improving facilities based on each demographic needs"
   ]
  },
  {
   "cell_type": "markdown",
   "metadata": {},
   "source": [
    "## **Data Checking**"
   ]
  },
  {
   "cell_type": "markdown",
   "metadata": {},
   "source": [
    "### **1. Overall View of the Data**"
   ]
  },
  {
   "cell_type": "code",
   "execution_count": 3,
   "metadata": {},
   "outputs": [
    {
     "data": {
      "text/html": [
       "<div>\n",
       "<style scoped>\n",
       "    .dataframe tbody tr th:only-of-type {\n",
       "        vertical-align: middle;\n",
       "    }\n",
       "\n",
       "    .dataframe tbody tr th {\n",
       "        vertical-align: top;\n",
       "    }\n",
       "\n",
       "    .dataframe thead th {\n",
       "        text-align: right;\n",
       "    }\n",
       "</style>\n",
       "<table border=\"1\" class=\"dataframe\">\n",
       "  <thead>\n",
       "    <tr style=\"text-align: right;\">\n",
       "      <th></th>\n",
       "      <th>transID</th>\n",
       "      <th>payCardID</th>\n",
       "      <th>payCardBank</th>\n",
       "      <th>payCardName</th>\n",
       "      <th>payCardSex</th>\n",
       "      <th>payCardBirthDate</th>\n",
       "      <th>corridorID</th>\n",
       "      <th>corridorName</th>\n",
       "      <th>direction</th>\n",
       "      <th>tapInStops</th>\n",
       "      <th>...</th>\n",
       "      <th>tapInStopsLon</th>\n",
       "      <th>stopStartSeq</th>\n",
       "      <th>tapInTime</th>\n",
       "      <th>tapOutStops</th>\n",
       "      <th>tapOutStopsName</th>\n",
       "      <th>tapOutStopsLat</th>\n",
       "      <th>tapOutStopsLon</th>\n",
       "      <th>stopEndSeq</th>\n",
       "      <th>tapOutTime</th>\n",
       "      <th>payAmount</th>\n",
       "    </tr>\n",
       "  </thead>\n",
       "  <tbody>\n",
       "    <tr>\n",
       "      <th>0</th>\n",
       "      <td>EIIW227B8L34VB</td>\n",
       "      <td>180062659848800</td>\n",
       "      <td>emoney</td>\n",
       "      <td>Bajragin Usada</td>\n",
       "      <td>M</td>\n",
       "      <td>2008</td>\n",
       "      <td>5</td>\n",
       "      <td>Matraman Baru - Ancol</td>\n",
       "      <td>1.0</td>\n",
       "      <td>P00142</td>\n",
       "      <td>...</td>\n",
       "      <td>106.84402</td>\n",
       "      <td>7</td>\n",
       "      <td>2023-04-03 05:21:44</td>\n",
       "      <td>P00253</td>\n",
       "      <td>Tegalan</td>\n",
       "      <td>-6.203101</td>\n",
       "      <td>106.85715</td>\n",
       "      <td>12.0</td>\n",
       "      <td>2023-04-03 06:00:53</td>\n",
       "      <td>3500.0</td>\n",
       "    </tr>\n",
       "    <tr>\n",
       "      <th>1</th>\n",
       "      <td>LGXO740D2N47GZ</td>\n",
       "      <td>4885331907664776</td>\n",
       "      <td>dki</td>\n",
       "      <td>Gandi Widodo</td>\n",
       "      <td>F</td>\n",
       "      <td>1997</td>\n",
       "      <td>6C</td>\n",
       "      <td>Stasiun Tebet - Karet via Patra Kuningan</td>\n",
       "      <td>0.0</td>\n",
       "      <td>B01963P</td>\n",
       "      <td>...</td>\n",
       "      <td>106.83302</td>\n",
       "      <td>13</td>\n",
       "      <td>2023-04-03 05:42:44</td>\n",
       "      <td>B03307P</td>\n",
       "      <td>Sampoerna Strategic</td>\n",
       "      <td>-6.217152</td>\n",
       "      <td>106.81892</td>\n",
       "      <td>21.0</td>\n",
       "      <td>2023-04-03 06:40:01</td>\n",
       "      <td>3500.0</td>\n",
       "    </tr>\n",
       "    <tr>\n",
       "      <th>2</th>\n",
       "      <td>DJWR385V2U57TO</td>\n",
       "      <td>4996225095064169</td>\n",
       "      <td>dki</td>\n",
       "      <td>Emong Wastuti</td>\n",
       "      <td>F</td>\n",
       "      <td>1992</td>\n",
       "      <td>R1A</td>\n",
       "      <td>Pantai Maju - Kota</td>\n",
       "      <td>0.0</td>\n",
       "      <td>B00499P</td>\n",
       "      <td>...</td>\n",
       "      <td>106.81435</td>\n",
       "      <td>38</td>\n",
       "      <td>2023-04-03 05:59:06</td>\n",
       "      <td>B04962P</td>\n",
       "      <td>Simpang Kunir Kemukus</td>\n",
       "      <td>-6.133731</td>\n",
       "      <td>106.81475</td>\n",
       "      <td>39.0</td>\n",
       "      <td>2023-04-03 06:50:55</td>\n",
       "      <td>3500.0</td>\n",
       "    </tr>\n",
       "    <tr>\n",
       "      <th>3</th>\n",
       "      <td>JTUZ800U7C86EH</td>\n",
       "      <td>639099174703</td>\n",
       "      <td>flazz</td>\n",
       "      <td>Surya Wacana</td>\n",
       "      <td>F</td>\n",
       "      <td>1978</td>\n",
       "      <td>11D</td>\n",
       "      <td>Pulo Gebang - Pulo Gadung 2 via PIK</td>\n",
       "      <td>0.0</td>\n",
       "      <td>B05587P</td>\n",
       "      <td>...</td>\n",
       "      <td>106.93526</td>\n",
       "      <td>23</td>\n",
       "      <td>2023-04-03 05:44:51</td>\n",
       "      <td>B03090P</td>\n",
       "      <td>Raya Penggilingan</td>\n",
       "      <td>-6.183068</td>\n",
       "      <td>106.93194</td>\n",
       "      <td>29.0</td>\n",
       "      <td>2023-04-03 06:28:16</td>\n",
       "      <td>3500.0</td>\n",
       "    </tr>\n",
       "    <tr>\n",
       "      <th>4</th>\n",
       "      <td>VMLO535V7F95NJ</td>\n",
       "      <td>570928206772</td>\n",
       "      <td>flazz</td>\n",
       "      <td>Embuh Mardhiyah</td>\n",
       "      <td>M</td>\n",
       "      <td>1982</td>\n",
       "      <td>12</td>\n",
       "      <td>Tanjung Priok - Pluit</td>\n",
       "      <td>0.0</td>\n",
       "      <td>P00239</td>\n",
       "      <td>...</td>\n",
       "      <td>106.88900</td>\n",
       "      <td>5</td>\n",
       "      <td>2023-04-03 06:17:35</td>\n",
       "      <td>P00098</td>\n",
       "      <td>Kali Besar Barat</td>\n",
       "      <td>-6.135355</td>\n",
       "      <td>106.81143</td>\n",
       "      <td>15.0</td>\n",
       "      <td>2023-04-03 06:57:03</td>\n",
       "      <td>3500.0</td>\n",
       "    </tr>\n",
       "  </tbody>\n",
       "</table>\n",
       "<p>5 rows × 22 columns</p>\n",
       "</div>"
      ],
      "text/plain": [
       "          transID         payCardID payCardBank      payCardName payCardSex  \\\n",
       "0  EIIW227B8L34VB   180062659848800      emoney   Bajragin Usada          M   \n",
       "1  LGXO740D2N47GZ  4885331907664776         dki     Gandi Widodo          F   \n",
       "2  DJWR385V2U57TO  4996225095064169         dki    Emong Wastuti          F   \n",
       "3  JTUZ800U7C86EH      639099174703       flazz     Surya Wacana          F   \n",
       "4  VMLO535V7F95NJ      570928206772       flazz  Embuh Mardhiyah          M   \n",
       "\n",
       "   payCardBirthDate corridorID                              corridorName  \\\n",
       "0              2008          5                     Matraman Baru - Ancol   \n",
       "1              1997         6C  Stasiun Tebet - Karet via Patra Kuningan   \n",
       "2              1992        R1A                        Pantai Maju - Kota   \n",
       "3              1978        11D       Pulo Gebang - Pulo Gadung 2 via PIK   \n",
       "4              1982         12                     Tanjung Priok - Pluit   \n",
       "\n",
       "   direction tapInStops  ... tapInStopsLon  stopStartSeq            tapInTime  \\\n",
       "0        1.0     P00142  ...     106.84402             7  2023-04-03 05:21:44   \n",
       "1        0.0    B01963P  ...     106.83302            13  2023-04-03 05:42:44   \n",
       "2        0.0    B00499P  ...     106.81435            38  2023-04-03 05:59:06   \n",
       "3        0.0    B05587P  ...     106.93526            23  2023-04-03 05:44:51   \n",
       "4        0.0     P00239  ...     106.88900             5  2023-04-03 06:17:35   \n",
       "\n",
       "   tapOutStops        tapOutStopsName tapOutStopsLat tapOutStopsLon  \\\n",
       "0       P00253                Tegalan      -6.203101      106.85715   \n",
       "1      B03307P    Sampoerna Strategic      -6.217152      106.81892   \n",
       "2      B04962P  Simpang Kunir Kemukus      -6.133731      106.81475   \n",
       "3      B03090P      Raya Penggilingan      -6.183068      106.93194   \n",
       "4       P00098       Kali Besar Barat      -6.135355      106.81143   \n",
       "\n",
       "   stopEndSeq           tapOutTime  payAmount  \n",
       "0        12.0  2023-04-03 06:00:53     3500.0  \n",
       "1        21.0  2023-04-03 06:40:01     3500.0  \n",
       "2        39.0  2023-04-03 06:50:55     3500.0  \n",
       "3        29.0  2023-04-03 06:28:16     3500.0  \n",
       "4        15.0  2023-04-03 06:57:03     3500.0  \n",
       "\n",
       "[5 rows x 22 columns]"
      ]
     },
     "execution_count": 3,
     "metadata": {},
     "output_type": "execute_result"
    }
   ],
   "source": [
    "df = pd.read_csv('Transjakarta.csv')\n",
    "df.head()"
   ]
  },
  {
   "cell_type": "code",
   "execution_count": 4,
   "metadata": {},
   "outputs": [
    {
     "data": {
      "text/plain": [
       "Index(['transID', 'payCardID', 'payCardBank', 'payCardName', 'payCardSex',\n",
       "       'payCardBirthDate', 'corridorID', 'corridorName', 'direction',\n",
       "       'tapInStops', 'tapInStopsName', 'tapInStopsLat', 'tapInStopsLon',\n",
       "       'stopStartSeq', 'tapInTime', 'tapOutStops', 'tapOutStopsName',\n",
       "       'tapOutStopsLat', 'tapOutStopsLon', 'stopEndSeq', 'tapOutTime',\n",
       "       'payAmount'],\n",
       "      dtype='object')"
      ]
     },
     "execution_count": 4,
     "metadata": {},
     "output_type": "execute_result"
    }
   ],
   "source": [
    "# Checking for column names as to gain an overall view of the data\n",
    "\n",
    "df.columns"
   ]
  },
  {
   "cell_type": "markdown",
   "metadata": {},
   "source": [
    "### Column Descriptions from the Dataset\n",
    "\n",
    "A full description of each column as follows:\n",
    "\n",
    "| Columns            | Description                                     |\n",
    "|-------------------|------------------------------------------------|\n",
    "| `transID`           | Unique transaction ID for every transaction |\n",
    "| `payCardID`         | Customers main identifier. The card customers use as a ticket for entrance and exit |\n",
    "| `payCardBank`       | Customers card bank issuer name |\n",
    "| `payCardName`       | Customers name that is embedded in the card |\n",
    "| `payCardSex`        | Customers sex that is embedded in the card |\n",
    "| `payCardBirthDate`  | Customers birth year |\n",
    "| `corridorID`        | Corridor ID / Route ID as key for route grouping (connected to corridorName) |\n",
    "| `corridorName`      | Corridor Name / Route Name contains Start and Finish for each route|\n",
    "| `direction`         | Binary numbers where 0 for Go, 1 for Back. Direction of the route |\n",
    "| `tapInStops`        | Tap In (entrance) Stops ID for identifying stops name |\n",
    "| `tapInStopsName`    | Tap In (entrance) Stops Name where customers tap in |\n",
    "| `tapInStopsLat`     | Latitude of Tap In Stops   |\n",
    "| `tapInStopsLon`     | Longitude of Tap In Stops   |\n",
    "| `stopStartSeq`      | Sequence of the stops, 1st stop, 2nd stops etc. Related to direction |\n",
    "| `tapInTime`         | Time of tap in. Date and time |\n",
    "| `tapOutStops`       | Tap Out (Exit) Stops ID for identifying stops name  |\n",
    "| `tapOutStopsName`   | Tap out (exit) Stops Name where customers tap out                 |\n",
    "| `tapOutStopsLat`    | Latitude of Tap Out Stops  |\n",
    "| `tapOutStopsLon`    | Longitude of Tap Out Stops  |\n",
    "| `stopEndSeq`        | Sequence of the stops, 1st stop, 2nd stops etc. Related to direction |\n",
    "| `tapOutTime`        | Time of tap out. Date and time |\n",
    "| `payAmount`         | The number of what customers pay. Some are free. Some are not |"
   ]
  },
  {
   "cell_type": "markdown",
   "metadata": {},
   "source": [
    "### **2. Identifying Duplicates and Missing Values**"
   ]
  },
  {
   "cell_type": "code",
   "execution_count": 5,
   "metadata": {},
   "outputs": [
    {
     "name": "stdout",
     "output_type": "stream",
     "text": [
      "No duplicated rows found.\n"
     ]
    }
   ],
   "source": [
    "# Checking for duplicates \n",
    "\n",
    "duplicate = df[df.duplicated()]\n",
    "\n",
    "if not duplicate.empty:\n",
    "    print(\"Duplicated rows:\")\n",
    "    print(duplicate)\n",
    "else:\n",
    "    print(\"No duplicated rows found.\")"
   ]
  },
  {
   "cell_type": "code",
   "execution_count": 6,
   "metadata": {},
   "outputs": [
    {
     "data": {
      "text/html": [
       "<div>\n",
       "<style scoped>\n",
       "    .dataframe tbody tr th:only-of-type {\n",
       "        vertical-align: middle;\n",
       "    }\n",
       "\n",
       "    .dataframe tbody tr th {\n",
       "        vertical-align: top;\n",
       "    }\n",
       "\n",
       "    .dataframe thead th {\n",
       "        text-align: right;\n",
       "    }\n",
       "</style>\n",
       "<table border=\"1\" class=\"dataframe\">\n",
       "  <thead>\n",
       "    <tr style=\"text-align: right;\">\n",
       "      <th></th>\n",
       "      <th>Column Name</th>\n",
       "      <th>Total of Unique Value</th>\n",
       "      <th>Unique Sample</th>\n",
       "    </tr>\n",
       "  </thead>\n",
       "  <tbody>\n",
       "    <tr>\n",
       "      <th>8</th>\n",
       "      <td>direction</td>\n",
       "      <td>2</td>\n",
       "      <td>[1.0, 0.0]</td>\n",
       "    </tr>\n",
       "    <tr>\n",
       "      <th>4</th>\n",
       "      <td>payCardSex</td>\n",
       "      <td>2</td>\n",
       "      <td>[M, F]</td>\n",
       "    </tr>\n",
       "    <tr>\n",
       "      <th>21</th>\n",
       "      <td>payAmount</td>\n",
       "      <td>3</td>\n",
       "      <td>[3500.0, 20000.0, 0.0, nan]</td>\n",
       "    </tr>\n",
       "    <tr>\n",
       "      <th>2</th>\n",
       "      <td>payCardBank</td>\n",
       "      <td>6</td>\n",
       "      <td>[emoney, dki, flazz, online, brizzi, bni]</td>\n",
       "    </tr>\n",
       "    <tr>\n",
       "      <th>5</th>\n",
       "      <td>payCardBirthDate</td>\n",
       "      <td>67</td>\n",
       "      <td>[2008, 1997, 1992, 1978, 1982, 1993, 1974, 199...</td>\n",
       "    </tr>\n",
       "    <tr>\n",
       "      <th>13</th>\n",
       "      <td>stopStartSeq</td>\n",
       "      <td>67</td>\n",
       "      <td>[7, 13, 38, 23, 5, 3, 25, 2, 1, 15, 17, 12, 4,...</td>\n",
       "    </tr>\n",
       "    <tr>\n",
       "      <th>19</th>\n",
       "      <td>stopEndSeq</td>\n",
       "      <td>74</td>\n",
       "      <td>[12.0, 21.0, 39.0, 29.0, 15.0, 6.0, nan, 16.0,...</td>\n",
       "    </tr>\n",
       "    <tr>\n",
       "      <th>7</th>\n",
       "      <td>corridorName</td>\n",
       "      <td>216</td>\n",
       "      <td>[Matraman Baru - Ancol, Stasiun Tebet - Karet ...</td>\n",
       "    </tr>\n",
       "    <tr>\n",
       "      <th>6</th>\n",
       "      <td>corridorID</td>\n",
       "      <td>221</td>\n",
       "      <td>[5, 6C, R1A, 11D, 12, 1T, JAK.18, nan, B14, 1Q...</td>\n",
       "    </tr>\n",
       "    <tr>\n",
       "      <th>3</th>\n",
       "      <td>payCardName</td>\n",
       "      <td>1993</td>\n",
       "      <td>[Bajragin Usada, Gandi Widodo, Emong Wastuti, ...</td>\n",
       "    </tr>\n",
       "    <tr>\n",
       "      <th>1</th>\n",
       "      <td>payCardID</td>\n",
       "      <td>2000</td>\n",
       "      <td>[180062659848800, 4885331907664776, 4996225095...</td>\n",
       "    </tr>\n",
       "    <tr>\n",
       "      <th>18</th>\n",
       "      <td>tapOutStopsLon</td>\n",
       "      <td>2139</td>\n",
       "      <td>[106.85715, 106.81892, 106.81475, 106.93194, 1...</td>\n",
       "    </tr>\n",
       "    <tr>\n",
       "      <th>15</th>\n",
       "      <td>tapOutStops</td>\n",
       "      <td>2230</td>\n",
       "      <td>[P00253, B03307P, B04962P, B03090P, P00098, B0...</td>\n",
       "    </tr>\n",
       "    <tr>\n",
       "      <th>17</th>\n",
       "      <td>tapOutStopsLat</td>\n",
       "      <td>2237</td>\n",
       "      <td>[-6.203101, -6.217152, -6.133731, -6.183068, -...</td>\n",
       "    </tr>\n",
       "    <tr>\n",
       "      <th>16</th>\n",
       "      <td>tapOutStopsName</td>\n",
       "      <td>2248</td>\n",
       "      <td>[Tegalan, Sampoerna Strategic, Simpang Kunir K...</td>\n",
       "    </tr>\n",
       "    <tr>\n",
       "      <th>12</th>\n",
       "      <td>tapInStopsLon</td>\n",
       "      <td>2458</td>\n",
       "      <td>[106.84402, 106.83302, 106.81435, 106.93526, 1...</td>\n",
       "    </tr>\n",
       "    <tr>\n",
       "      <th>9</th>\n",
       "      <td>tapInStops</td>\n",
       "      <td>2570</td>\n",
       "      <td>[P00142, B01963P, B00499P, B05587P, P00239, B0...</td>\n",
       "    </tr>\n",
       "    <tr>\n",
       "      <th>11</th>\n",
       "      <td>tapInStopsLat</td>\n",
       "      <td>2587</td>\n",
       "      <td>[-6.184631, -6.2287, -6.133132, -6.195743, -6....</td>\n",
       "    </tr>\n",
       "    <tr>\n",
       "      <th>10</th>\n",
       "      <td>tapInStopsName</td>\n",
       "      <td>2602</td>\n",
       "      <td>[Pal Putih, Kemenkes 2, Gg. Kunir II, Taman El...</td>\n",
       "    </tr>\n",
       "    <tr>\n",
       "      <th>20</th>\n",
       "      <td>tapOutTime</td>\n",
       "      <td>35908</td>\n",
       "      <td>[2023-04-03 06:00:53, 2023-04-03 06:40:01, 202...</td>\n",
       "    </tr>\n",
       "    <tr>\n",
       "      <th>14</th>\n",
       "      <td>tapInTime</td>\n",
       "      <td>37079</td>\n",
       "      <td>[2023-04-03 05:21:44, 2023-04-03 05:42:44, 202...</td>\n",
       "    </tr>\n",
       "    <tr>\n",
       "      <th>0</th>\n",
       "      <td>transID</td>\n",
       "      <td>37900</td>\n",
       "      <td>[EIIW227B8L34VB, LGXO740D2N47GZ, DJWR385V2U57T...</td>\n",
       "    </tr>\n",
       "  </tbody>\n",
       "</table>\n",
       "</div>"
      ],
      "text/plain": [
       "         Column Name  Total of Unique Value  \\\n",
       "8          direction                      2   \n",
       "4         payCardSex                      2   \n",
       "21         payAmount                      3   \n",
       "2        payCardBank                      6   \n",
       "5   payCardBirthDate                     67   \n",
       "13      stopStartSeq                     67   \n",
       "19        stopEndSeq                     74   \n",
       "7       corridorName                    216   \n",
       "6         corridorID                    221   \n",
       "3        payCardName                   1993   \n",
       "1          payCardID                   2000   \n",
       "18    tapOutStopsLon                   2139   \n",
       "15       tapOutStops                   2230   \n",
       "17    tapOutStopsLat                   2237   \n",
       "16   tapOutStopsName                   2248   \n",
       "12     tapInStopsLon                   2458   \n",
       "9         tapInStops                   2570   \n",
       "11     tapInStopsLat                   2587   \n",
       "10    tapInStopsName                   2602   \n",
       "20        tapOutTime                  35908   \n",
       "14         tapInTime                  37079   \n",
       "0            transID                  37900   \n",
       "\n",
       "                                        Unique Sample  \n",
       "8                                          [1.0, 0.0]  \n",
       "4                                              [M, F]  \n",
       "21                        [3500.0, 20000.0, 0.0, nan]  \n",
       "2           [emoney, dki, flazz, online, brizzi, bni]  \n",
       "5   [2008, 1997, 1992, 1978, 1982, 1993, 1974, 199...  \n",
       "13  [7, 13, 38, 23, 5, 3, 25, 2, 1, 15, 17, 12, 4,...  \n",
       "19  [12.0, 21.0, 39.0, 29.0, 15.0, 6.0, nan, 16.0,...  \n",
       "7   [Matraman Baru - Ancol, Stasiun Tebet - Karet ...  \n",
       "6   [5, 6C, R1A, 11D, 12, 1T, JAK.18, nan, B14, 1Q...  \n",
       "3   [Bajragin Usada, Gandi Widodo, Emong Wastuti, ...  \n",
       "1   [180062659848800, 4885331907664776, 4996225095...  \n",
       "18  [106.85715, 106.81892, 106.81475, 106.93194, 1...  \n",
       "15  [P00253, B03307P, B04962P, B03090P, P00098, B0...  \n",
       "17  [-6.203101, -6.217152, -6.133731, -6.183068, -...  \n",
       "16  [Tegalan, Sampoerna Strategic, Simpang Kunir K...  \n",
       "12  [106.84402, 106.83302, 106.81435, 106.93526, 1...  \n",
       "9   [P00142, B01963P, B00499P, B05587P, P00239, B0...  \n",
       "11  [-6.184631, -6.2287, -6.133132, -6.195743, -6....  \n",
       "10  [Pal Putih, Kemenkes 2, Gg. Kunir II, Taman El...  \n",
       "20  [2023-04-03 06:00:53, 2023-04-03 06:40:01, 202...  \n",
       "14  [2023-04-03 05:21:44, 2023-04-03 05:42:44, 202...  \n",
       "0   [EIIW227B8L34VB, LGXO740D2N47GZ, DJWR385V2U57T...  "
      ]
     },
     "execution_count": 6,
     "metadata": {},
     "output_type": "execute_result"
    }
   ],
   "source": [
    "# Checking for unique values in each column\n",
    "\n",
    "list_item =  []\n",
    "\n",
    "for i in df.columns :\n",
    "    list_item.append([i, df[i].nunique(), df[i].unique()])\n",
    "\n",
    "UniqueTable = pd.DataFrame(columns=['Column Name', 'Total of Unique Value', 'Unique Sample'], data=list_item)\n",
    "UniqueTable.sort_values(by='Total of Unique Value')"
   ]
  },
  {
   "cell_type": "markdown",
   "metadata": {},
   "source": [
    "In the unique values data above, we see that there are 216 unique `corridorName` values but 221 unique `corridorID` values. Based on the column description, `corridorID` and `corridorName` should have the same amount of unique values as they represent one another. This will be included in the data cleaning process as to ensure that the columns that are going to be used will be viable for analysis. "
   ]
  },
  {
   "cell_type": "code",
   "execution_count": 7,
   "metadata": {},
   "outputs": [
    {
     "name": "stdout",
     "output_type": "stream",
     "text": [
      "<class 'pandas.core.frame.DataFrame'>\n",
      "RangeIndex: 37900 entries, 0 to 37899\n",
      "Data columns (total 22 columns):\n",
      " #   Column            Non-Null Count  Dtype  \n",
      "---  ------            --------------  -----  \n",
      " 0   transID           37900 non-null  object \n",
      " 1   payCardID         37900 non-null  int64  \n",
      " 2   payCardBank       37900 non-null  object \n",
      " 3   payCardName       37900 non-null  object \n",
      " 4   payCardSex        37900 non-null  object \n",
      " 5   payCardBirthDate  37900 non-null  int64  \n",
      " 6   corridorID        36643 non-null  object \n",
      " 7   corridorName      35970 non-null  object \n",
      " 8   direction         37900 non-null  float64\n",
      " 9   tapInStops        36687 non-null  object \n",
      " 10  tapInStopsName    37900 non-null  object \n",
      " 11  tapInStopsLat     37900 non-null  float64\n",
      " 12  tapInStopsLon     37900 non-null  float64\n",
      " 13  stopStartSeq      37900 non-null  int64  \n",
      " 14  tapInTime         37900 non-null  object \n",
      " 15  tapOutStops       35611 non-null  object \n",
      " 16  tapOutStopsName   36556 non-null  object \n",
      " 17  tapOutStopsLat    36556 non-null  float64\n",
      " 18  tapOutStopsLon    36556 non-null  float64\n",
      " 19  stopEndSeq        36556 non-null  float64\n",
      " 20  tapOutTime        36556 non-null  object \n",
      " 21  payAmount         36893 non-null  float64\n",
      "dtypes: float64(7), int64(3), object(12)\n",
      "memory usage: 6.4+ MB\n"
     ]
    }
   ],
   "source": [
    "# Checking overall data to see missing values and overall data-type\n",
    "\n",
    "df.info()"
   ]
  },
  {
   "cell_type": "code",
   "execution_count": 8,
   "metadata": {},
   "outputs": [
    {
     "data": {
      "text/html": [
       "<div>\n",
       "<style scoped>\n",
       "    .dataframe tbody tr th:only-of-type {\n",
       "        vertical-align: middle;\n",
       "    }\n",
       "\n",
       "    .dataframe tbody tr th {\n",
       "        vertical-align: top;\n",
       "    }\n",
       "\n",
       "    .dataframe thead th {\n",
       "        text-align: right;\n",
       "    }\n",
       "</style>\n",
       "<table border=\"1\" class=\"dataframe\">\n",
       "  <thead>\n",
       "    <tr style=\"text-align: right;\">\n",
       "      <th></th>\n",
       "      <th>index</th>\n",
       "      <th>Total Null Values</th>\n",
       "      <th>Percentage</th>\n",
       "    </tr>\n",
       "  </thead>\n",
       "  <tbody>\n",
       "    <tr>\n",
       "      <th>0</th>\n",
       "      <td>tapOutStops</td>\n",
       "      <td>2289</td>\n",
       "      <td>6.039578</td>\n",
       "    </tr>\n",
       "    <tr>\n",
       "      <th>1</th>\n",
       "      <td>corridorName</td>\n",
       "      <td>1930</td>\n",
       "      <td>5.092348</td>\n",
       "    </tr>\n",
       "    <tr>\n",
       "      <th>2</th>\n",
       "      <td>tapOutTime</td>\n",
       "      <td>1344</td>\n",
       "      <td>3.546174</td>\n",
       "    </tr>\n",
       "    <tr>\n",
       "      <th>3</th>\n",
       "      <td>stopEndSeq</td>\n",
       "      <td>1344</td>\n",
       "      <td>3.546174</td>\n",
       "    </tr>\n",
       "    <tr>\n",
       "      <th>4</th>\n",
       "      <td>tapOutStopsLon</td>\n",
       "      <td>1344</td>\n",
       "      <td>3.546174</td>\n",
       "    </tr>\n",
       "    <tr>\n",
       "      <th>5</th>\n",
       "      <td>tapOutStopsLat</td>\n",
       "      <td>1344</td>\n",
       "      <td>3.546174</td>\n",
       "    </tr>\n",
       "    <tr>\n",
       "      <th>6</th>\n",
       "      <td>tapOutStopsName</td>\n",
       "      <td>1344</td>\n",
       "      <td>3.546174</td>\n",
       "    </tr>\n",
       "    <tr>\n",
       "      <th>7</th>\n",
       "      <td>corridorID</td>\n",
       "      <td>1257</td>\n",
       "      <td>3.316623</td>\n",
       "    </tr>\n",
       "    <tr>\n",
       "      <th>8</th>\n",
       "      <td>tapInStops</td>\n",
       "      <td>1213</td>\n",
       "      <td>3.200528</td>\n",
       "    </tr>\n",
       "    <tr>\n",
       "      <th>9</th>\n",
       "      <td>payAmount</td>\n",
       "      <td>1007</td>\n",
       "      <td>2.656992</td>\n",
       "    </tr>\n",
       "    <tr>\n",
       "      <th>10</th>\n",
       "      <td>stopStartSeq</td>\n",
       "      <td>0</td>\n",
       "      <td>0.000000</td>\n",
       "    </tr>\n",
       "    <tr>\n",
       "      <th>11</th>\n",
       "      <td>tapInTime</td>\n",
       "      <td>0</td>\n",
       "      <td>0.000000</td>\n",
       "    </tr>\n",
       "    <tr>\n",
       "      <th>12</th>\n",
       "      <td>transID</td>\n",
       "      <td>0</td>\n",
       "      <td>0.000000</td>\n",
       "    </tr>\n",
       "    <tr>\n",
       "      <th>13</th>\n",
       "      <td>tapInStopsLon</td>\n",
       "      <td>0</td>\n",
       "      <td>0.000000</td>\n",
       "    </tr>\n",
       "    <tr>\n",
       "      <th>14</th>\n",
       "      <td>payCardID</td>\n",
       "      <td>0</td>\n",
       "      <td>0.000000</td>\n",
       "    </tr>\n",
       "    <tr>\n",
       "      <th>15</th>\n",
       "      <td>tapInStopsName</td>\n",
       "      <td>0</td>\n",
       "      <td>0.000000</td>\n",
       "    </tr>\n",
       "    <tr>\n",
       "      <th>16</th>\n",
       "      <td>direction</td>\n",
       "      <td>0</td>\n",
       "      <td>0.000000</td>\n",
       "    </tr>\n",
       "    <tr>\n",
       "      <th>17</th>\n",
       "      <td>payCardBirthDate</td>\n",
       "      <td>0</td>\n",
       "      <td>0.000000</td>\n",
       "    </tr>\n",
       "    <tr>\n",
       "      <th>18</th>\n",
       "      <td>payCardSex</td>\n",
       "      <td>0</td>\n",
       "      <td>0.000000</td>\n",
       "    </tr>\n",
       "    <tr>\n",
       "      <th>19</th>\n",
       "      <td>payCardName</td>\n",
       "      <td>0</td>\n",
       "      <td>0.000000</td>\n",
       "    </tr>\n",
       "    <tr>\n",
       "      <th>20</th>\n",
       "      <td>payCardBank</td>\n",
       "      <td>0</td>\n",
       "      <td>0.000000</td>\n",
       "    </tr>\n",
       "    <tr>\n",
       "      <th>21</th>\n",
       "      <td>tapInStopsLat</td>\n",
       "      <td>0</td>\n",
       "      <td>0.000000</td>\n",
       "    </tr>\n",
       "  </tbody>\n",
       "</table>\n",
       "</div>"
      ],
      "text/plain": [
       "               index  Total Null Values  Percentage\n",
       "0        tapOutStops               2289    6.039578\n",
       "1       corridorName               1930    5.092348\n",
       "2         tapOutTime               1344    3.546174\n",
       "3         stopEndSeq               1344    3.546174\n",
       "4     tapOutStopsLon               1344    3.546174\n",
       "5     tapOutStopsLat               1344    3.546174\n",
       "6    tapOutStopsName               1344    3.546174\n",
       "7         corridorID               1257    3.316623\n",
       "8         tapInStops               1213    3.200528\n",
       "9          payAmount               1007    2.656992\n",
       "10      stopStartSeq                  0    0.000000\n",
       "11         tapInTime                  0    0.000000\n",
       "12           transID                  0    0.000000\n",
       "13     tapInStopsLon                  0    0.000000\n",
       "14         payCardID                  0    0.000000\n",
       "15    tapInStopsName                  0    0.000000\n",
       "16         direction                  0    0.000000\n",
       "17  payCardBirthDate                  0    0.000000\n",
       "18        payCardSex                  0    0.000000\n",
       "19       payCardName                  0    0.000000\n",
       "20       payCardBank                  0    0.000000\n",
       "21     tapInStopsLat                  0    0.000000"
      ]
     },
     "execution_count": 8,
     "metadata": {},
     "output_type": "execute_result"
    }
   ],
   "source": [
    "# Cheking missing values and their percentage\n",
    "\n",
    "missing_values = pd.DataFrame(df.isnull().sum(), columns=['Total Null Values'])\n",
    "missing_values['Percentage'] = (missing_values['Total Null Values'] / df.shape[0]) * 100\n",
    "missing_values.sort_values(by='Percentage', ascending=False).reset_index()"
   ]
  },
  {
   "cell_type": "markdown",
   "metadata": {},
   "source": [
    "On the code above, we can see there are a few missing values on the columns `corridorID`, `corridorName`, `tapInStops`, `tapOutStops`, `tapOutStopsLat`, `tapOutStopsLon`, `tapOutTime`, and `payAmount` columns. These columns are going to be the checkpoint for data cleaning and treatment, whether or not we need to fill in the missing values or if they could be dropped.\n",
    "\n",
    "Furthermore, there are a few columns with data-types that could be changed, such as tapInTime and tapOutTime. These will be treated during data wrangling along with subsequent columns that could be adjusted. "
   ]
  },
  {
   "cell_type": "markdown",
   "metadata": {},
   "source": [
    "## **Data Cleaning**"
   ]
  },
  {
   "cell_type": "markdown",
   "metadata": {},
   "source": [
    "### **1. Fixing corridorID and corridorName unique values**"
   ]
  },
  {
   "cell_type": "markdown",
   "metadata": {},
   "source": [
    "In the unique values data above, we see that there are 216 unique `corridorName` values but 221 unique `corridorID` values. Based on the column description, `corridorID` and `corridorName` should have the same amount of unique values as they represent one another. This will be included in the data cleaning process as to ensure that the columns that are going to be used will be viable for analysis. "
   ]
  },
  {
   "cell_type": "code",
   "execution_count": 9,
   "metadata": {},
   "outputs": [],
   "source": [
    "# Make a variable for the corridor that may have duplicates \n",
    "\n",
    "unique_corridors = df.groupby('corridorName')['corridorID'].nunique()\n",
    "same_corridors_id = unique_corridors[unique_corridors > 1]"
   ]
  },
  {
   "cell_type": "code",
   "execution_count": 10,
   "metadata": {},
   "outputs": [],
   "source": [
    "result_df = pd.DataFrame({'corridorName': same_corridors_id.index,\n",
    "                          'uniqueCorridorID': same_corridors_id.values})"
   ]
  },
  {
   "cell_type": "code",
   "execution_count": 11,
   "metadata": {},
   "outputs": [
    {
     "data": {
      "text/html": [
       "<div>\n",
       "<style scoped>\n",
       "    .dataframe tbody tr th:only-of-type {\n",
       "        vertical-align: middle;\n",
       "    }\n",
       "\n",
       "    .dataframe tbody tr th {\n",
       "        vertical-align: top;\n",
       "    }\n",
       "\n",
       "    .dataframe thead th {\n",
       "        text-align: right;\n",
       "    }\n",
       "</style>\n",
       "<table border=\"1\" class=\"dataframe\">\n",
       "  <thead>\n",
       "    <tr style=\"text-align: right;\">\n",
       "      <th></th>\n",
       "      <th>corridorName</th>\n",
       "      <th>uniqueCorridorID</th>\n",
       "      <th>corridorID</th>\n",
       "    </tr>\n",
       "  </thead>\n",
       "  <tbody>\n",
       "    <tr>\n",
       "      <th>0</th>\n",
       "      <td>Blok M - Kota</td>\n",
       "      <td>2</td>\n",
       "      <td>[M1, 1]</td>\n",
       "    </tr>\n",
       "    <tr>\n",
       "      <th>1</th>\n",
       "      <td>Kalideres - Bundaran HI via Veteran</td>\n",
       "      <td>2</td>\n",
       "      <td>[M3, 3, nan]</td>\n",
       "    </tr>\n",
       "    <tr>\n",
       "      <th>2</th>\n",
       "      <td>Matraman Baru - Ancol</td>\n",
       "      <td>2</td>\n",
       "      <td>[5, nan, M5]</td>\n",
       "    </tr>\n",
       "    <tr>\n",
       "      <th>3</th>\n",
       "      <td>Pinang Ranti - Pluit</td>\n",
       "      <td>2</td>\n",
       "      <td>[M9, 9, nan]</td>\n",
       "    </tr>\n",
       "    <tr>\n",
       "      <th>4</th>\n",
       "      <td>Pulo Gadung - Monas</td>\n",
       "      <td>2</td>\n",
       "      <td>[2, M2, nan]</td>\n",
       "    </tr>\n",
       "  </tbody>\n",
       "</table>\n",
       "</div>"
      ],
      "text/plain": [
       "                          corridorName  uniqueCorridorID    corridorID\n",
       "0                        Blok M - Kota                 2       [M1, 1]\n",
       "1  Kalideres - Bundaran HI via Veteran                 2  [M3, 3, nan]\n",
       "2                Matraman Baru - Ancol                 2  [5, nan, M5]\n",
       "3                 Pinang Ranti - Pluit                 2  [M9, 9, nan]\n",
       "4                  Pulo Gadung - Monas                 2  [2, M2, nan]"
      ]
     },
     "execution_count": 11,
     "metadata": {},
     "output_type": "execute_result"
    }
   ],
   "source": [
    "corridor_ids = []\n",
    "for corridor_name in result_df['corridorName']:\n",
    "    unique_ids = df[df['corridorName'] == corridor_name]['corridorID'].unique()\n",
    "    corridor_ids.append(unique_ids)\n",
    "result_df['corridorID'] = corridor_ids\n",
    "result_df"
   ]
  },
  {
   "cell_type": "code",
   "execution_count": 12,
   "metadata": {},
   "outputs": [],
   "source": [
    "df.loc[(df['corridorName'] == 'Blok M - Kota') & (df['corridorID'] == 'M1'), 'corridorName'] = 'Blok M - Kota(M)'\n",
    "df.loc[(df['corridorName'] == 'Kalideres - Bundaran HI via Veteran') & (df['corridorID'] == 'M3'), 'corridorName'] = 'Kalideres - Bundaran HI via Veteran(M)'\n",
    "df.loc[(df['corridorName'] == 'Matraman Baru - Ancol') & (df['corridorID'] == 'M5'), 'corridorName'] = 'Matraman Baru - Ancol(M)'\n",
    "df.loc[(df['corridorName'] == 'Pinang Ranti - Pluit') & (df['corridorID'] == 'M9'), 'corridorName'] = 'Pinang Ranti - Pluit(M)'\n",
    "df.loc[(df['corridorName'] == 'Pulo Gadung - Monas') & (df['corridorID'] == 'M2'), 'corridorName'] = 'Pulo Gadung - Monas(M)'"
   ]
  },
  {
   "cell_type": "markdown",
   "metadata": {},
   "source": [
    "The process above is to ensure that the corridor names that have duplicates is differentiated from each other, as they represent different working hours. M signifies that the corridor operates at nighttime. "
   ]
  },
  {
   "cell_type": "markdown",
   "metadata": {},
   "source": [
    "### **2. Cleaning `corridorID` and `corridorName` Missing Values**"
   ]
  },
  {
   "cell_type": "markdown",
   "metadata": {},
   "source": [
    "> `corridorID` and `corridorName` are intertwined. corridorID represents the unique ID of each route from start to stop taken by each passenger, and the corridorName is the name of the bus stops from start to stop. Because our analysis includes finding out heavy traffic in each corridor to prevent overcrowding, having clean data on TransJakarta corridors is important."
   ]
  },
  {
   "cell_type": "code",
   "execution_count": 13,
   "metadata": {},
   "outputs": [],
   "source": [
    "# cleaning corridorID\n",
    "missing_corridorID = df.dropna(subset=['corridorID']).drop_duplicates('corridorName')\n",
    "missing_corridorID = missing_corridorID.set_index('corridorName')['corridorID']\n",
    "missing_corridorID\n",
    "\n",
    "def fill_missing_corridor_id(row):\n",
    "    if pd.isnull(row['corridorID']) and pd.notnull(row['corridorName']):\n",
    "        return missing_corridorID.get(row['corridorName'])\n",
    "    return row['corridorID']"
   ]
  },
  {
   "cell_type": "code",
   "execution_count": 14,
   "metadata": {},
   "outputs": [
    {
     "data": {
      "text/plain": [
       "1257"
      ]
     },
     "execution_count": 14,
     "metadata": {},
     "output_type": "execute_result"
    }
   ],
   "source": [
    "# Checking the missing values after being treated\n",
    "\n",
    "df['corridorID'].isna().sum()"
   ]
  },
  {
   "cell_type": "markdown",
   "metadata": {},
   "source": [
    "> Since there are still 1257 missing values that needed to be cleaned, corridorID can also be filled using latitude and longitude stops."
   ]
  },
  {
   "cell_type": "code",
   "execution_count": 15,
   "metadata": {},
   "outputs": [
    {
     "data": {
      "text/plain": [
       "tapInStopsLat  tapInStopsLon\n",
       "-6.184631      106.84402              5\n",
       "-6.228700      106.83302             6C\n",
       "-6.133132      106.81435            R1A\n",
       "-6.195743      106.93526            11D\n",
       "-6.149650      106.88900             12\n",
       "                                 ...   \n",
       "-6.220486      106.86825        JAK.48B\n",
       "-6.249482      106.84661         JAK.18\n",
       "-6.190732      106.76743         JAK.30\n",
       "-6.203099      106.73673         JAK.30\n",
       "-6.142286      106.73712         JAK.52\n",
       "Name: corridorID, Length: 2567, dtype: object"
      ]
     },
     "execution_count": 15,
     "metadata": {},
     "output_type": "execute_result"
    }
   ],
   "source": [
    "# corridorID with tapInStopsLat and tapOutStopsLat\n",
    "missing_corridorID2 = df.dropna(subset=['corridorID']).drop_duplicates(['tapInStopsLat', 'tapInStopsLon'])\n",
    "missing_corridorID2 = missing_corridorID2.set_index(['tapInStopsLat', 'tapInStopsLon'])['corridorID']\n",
    "missing_corridorID2"
   ]
  },
  {
   "cell_type": "code",
   "execution_count": 16,
   "metadata": {},
   "outputs": [],
   "source": [
    "def fillna_corridorID_1 (row):\n",
    "    if pd.isnull(row['corridorID']) and pd.notnull(row['tapInStopsLat']) and pd.notnull(row['tapInStopsLon']):\n",
    "        return missing_corridorID2.get((row['tapInStopsLat'], row['tapInStopsLon']))\n",
    "    return row['corridorID']\n",
    "\n",
    "df['corridorID'] = df.apply(fillna_corridorID_1, axis=1)"
   ]
  },
  {
   "cell_type": "code",
   "execution_count": 17,
   "metadata": {},
   "outputs": [
    {
     "data": {
      "text/plain": [
       "36"
      ]
     },
     "execution_count": 17,
     "metadata": {},
     "output_type": "execute_result"
    }
   ],
   "source": [
    "# Checking for missing values after treatment again\n",
    "df['corridorID'].isna().sum()"
   ]
  },
  {
   "cell_type": "markdown",
   "metadata": {},
   "source": [
    "> The remaining missing values in corridorID is now 36. We will do data cleaning on the corridorName and see how many remaining missing values it has after cleaning before we drop them altogether."
   ]
  },
  {
   "cell_type": "markdown",
   "metadata": {},
   "source": [
    "### **3. Cleaning `corridorName` Missing Values**"
   ]
  },
  {
   "cell_type": "markdown",
   "metadata": {},
   "source": [
    "`corridorName`can be filled using `corridorID` columns as each unique values represent each other. Since the missing values in `corridorID` have been treated, this makes cleaning `corridorName` easier and more accurate."
   ]
  },
  {
   "cell_type": "code",
   "execution_count": 18,
   "metadata": {},
   "outputs": [
    {
     "data": {
      "text/plain": [
       "corridorID\n",
       "5                         Matraman Baru - Ancol\n",
       "6C     Stasiun Tebet - Karet via Patra Kuningan\n",
       "R1A                          Pantai Maju - Kota\n",
       "11D         Pulo Gebang - Pulo Gadung 2 via PIK\n",
       "12                        Tanjung Priok - Pluit\n",
       "Name: corridorName, dtype: object"
      ]
     },
     "metadata": {},
     "output_type": "display_data"
    }
   ],
   "source": [
    " # Fill Missing Value on 'corridorName' based on 'corridorID'\n",
    "mapping_corridor_name = df.dropna(subset='corridorName').drop_duplicates('corridorID')\n",
    "mapping_corridor_name = mapping_corridor_name.set_index('corridorID')['corridorName']\n",
    "display(mapping_corridor_name.head())\n",
    "\n",
    "def fillna_corridorName (row) :\n",
    "    if pd.isnull(row['corridorName']) and pd.notnull(row['corridorID']):\n",
    "        return mapping_corridor_name.get(row['corridorID'])\n",
    "    return row['corridorName']\n",
    "\n",
    "df['corridorName'] = df.apply(fillna_corridorName, axis=1)"
   ]
  },
  {
   "cell_type": "code",
   "execution_count": 19,
   "metadata": {},
   "outputs": [
    {
     "data": {
      "text/plain": [
       "33"
      ]
     },
     "execution_count": 19,
     "metadata": {},
     "output_type": "execute_result"
    }
   ],
   "source": [
    "# Checking corridorName missing values after cleaning\n",
    "\n",
    "df['corridorName'].isna().sum()"
   ]
  },
  {
   "cell_type": "markdown",
   "metadata": {},
   "source": [
    "> as the overall missing values after cleaning are 36 and 33 respectively and they cannot be filled, we will be dropping them to fully clean the data. "
   ]
  },
  {
   "cell_type": "code",
   "execution_count": 20,
   "metadata": {},
   "outputs": [],
   "source": [
    "# dropping remaining corridorID and corridorName missing values\n",
    "\n",
    "df.dropna(subset=['corridorID', 'corridorName'], inplace=True)"
   ]
  },
  {
   "cell_type": "code",
   "execution_count": 21,
   "metadata": {},
   "outputs": [
    {
     "data": {
      "text/plain": [
       "corridorID      0\n",
       "corridorName    0\n",
       "dtype: int64"
      ]
     },
     "execution_count": 21,
     "metadata": {},
     "output_type": "execute_result"
    }
   ],
   "source": [
    "# checking the missing values in corridorId and corridorName\n",
    "\n",
    "df[['corridorID', 'corridorName']].isna().sum()"
   ]
  },
  {
   "cell_type": "markdown",
   "metadata": {},
   "source": [
    "### **4. Cleaning `tapOutStops` Missing Values**"
   ]
  },
  {
   "cell_type": "code",
   "execution_count": 22,
   "metadata": {},
   "outputs": [
    {
     "data": {
      "text/plain": [
       "tapOutStopsName\n",
       "Tegalan                   P00253\n",
       "Sampoerna Strategic      B03307P\n",
       "Simpang Kunir Kemukus    B04962P\n",
       "Raya Penggilingan        B03090P\n",
       "Kali Besar Barat          P00098\n",
       "                          ...   \n",
       "Baladewa Residence       B00100P\n",
       "Grand Centro Bintaro     B00688P\n",
       "SMKN 56                  B05324P\n",
       "MNC Studios              B02471P\n",
       "RSUD Cengkareng          B03207P\n",
       "Name: tapOutStops, Length: 2213, dtype: object"
      ]
     },
     "metadata": {},
     "output_type": "display_data"
    }
   ],
   "source": [
    "# Fill Missing Value on 'tapOutStops' based on 'tapOutStopsName'\n",
    "mapping_tapoutstops = df.dropna(subset='tapOutStops').drop_duplicates('tapOutStopsName')\n",
    "mapping_tapoutstops = mapping_tapoutstops.set_index('tapOutStopsName')['tapOutStops']\n",
    "display(mapping_tapoutstops)\n",
    "\n",
    "def fillna_tapOutStops (row):\n",
    "    if pd.isnull(row['tapOutStops']) and pd.notnull(row['tapOutStopsName']):\n",
    "        return mapping_tapoutstops.get(row['tapOutStopsName'])\n",
    "    return row['tapOutStops']\n",
    "\n",
    "df['tapOutStops'] = df.apply(fillna_tapOutStops, axis=1)"
   ]
  },
  {
   "cell_type": "code",
   "execution_count": 23,
   "metadata": {},
   "outputs": [
    {
     "data": {
      "text/plain": [
       "1362"
      ]
     },
     "execution_count": 23,
     "metadata": {},
     "output_type": "execute_result"
    }
   ],
   "source": [
    "df['tapOutStops'].isna().sum()"
   ]
  },
  {
   "cell_type": "markdown",
   "metadata": {},
   "source": [
    "> from 2289 missing values, we now have 1362."
   ]
  },
  {
   "cell_type": "markdown",
   "metadata": {},
   "source": [
    "### **5. Cleaning `tapInStops` Missing Values**"
   ]
  },
  {
   "cell_type": "code",
   "execution_count": 24,
   "metadata": {},
   "outputs": [
    {
     "data": {
      "text/plain": [
       "tapInStopsName\n",
       "Pal Putih                       P00142\n",
       "Kemenkes 2                     B01963P\n",
       "Gg. Kunir II                   B00499P\n",
       "Taman Elok 1                   B05587P\n",
       "Sunter Boulevard Barat          P00239\n",
       "                                ...   \n",
       "Jatinegara Timur               B01732P\n",
       "Jln. Pancoran Timur III        B01450P\n",
       "AKR Tower                      B00018P\n",
       "Jln. Kartika Meruya Selatan    B01209P\n",
       "Jln. Gunung Galunggung 1       B01087P\n",
       "Name: tapInStops, Length: 2533, dtype: object"
      ]
     },
     "metadata": {},
     "output_type": "display_data"
    }
   ],
   "source": [
    "# Fill Missing Value on 'tapInStops' based on 'tapInStopsName'\n",
    "mapping_tapinstops = df.dropna(subset='tapInStops').drop_duplicates('tapInStopsName')\n",
    "mapping_tapinstops = mapping_tapinstops.set_index('tapInStopsName')['tapInStops']\n",
    "display(mapping_tapinstops)\n",
    "\n",
    "def fillna_tapInStops (row):\n",
    "    if pd.isnull(row['tapInStops']) and pd.notnull(row['tapInStopsName']):\n",
    "        return mapping_tapinstops.get((row['tapInStopsName']))\n",
    "    return row['tapInStops']\n",
    "\n",
    "df['tapInStops'] = df.apply(fillna_tapInStops, axis=1)"
   ]
  },
  {
   "cell_type": "code",
   "execution_count": 25,
   "metadata": {},
   "outputs": [
    {
     "data": {
      "text/plain": [
       "34"
      ]
     },
     "execution_count": 25,
     "metadata": {},
     "output_type": "execute_result"
    }
   ],
   "source": [
    "# Checking tapInStops missing values after being cleaned\n",
    "\n",
    "df['tapInStops'].isna().sum()"
   ]
  },
  {
   "cell_type": "markdown",
   "metadata": {},
   "source": [
    "> from 1213 missing values to 34."
   ]
  },
  {
   "cell_type": "code",
   "execution_count": 26,
   "metadata": {},
   "outputs": [
    {
     "data": {
      "text/plain": [
       "transID             0.000000\n",
       "payCardID           0.000000\n",
       "payCardBank         0.000000\n",
       "payCardName         0.000000\n",
       "payCardSex          0.000000\n",
       "payCardBirthDate    0.000000\n",
       "corridorID          0.000000\n",
       "corridorName        0.000000\n",
       "direction           0.000000\n",
       "tapInStops          0.089795\n",
       "tapInStopsName      0.000000\n",
       "tapInStopsLat       0.000000\n",
       "tapInStopsLon       0.000000\n",
       "stopStartSeq        0.000000\n",
       "tapInTime           0.000000\n",
       "tapOutStops         3.597084\n",
       "tapOutStopsName     3.546905\n",
       "tapOutStopsLat      3.546905\n",
       "tapOutStopsLon      3.546905\n",
       "stopEndSeq          3.546905\n",
       "tapOutTime          3.546905\n",
       "payAmount           2.659518\n",
       "dtype: float64"
      ]
     },
     "execution_count": 26,
     "metadata": {},
     "output_type": "execute_result"
    }
   ],
   "source": [
    "# Checking for missing values based on percentage\n",
    "df.isna().sum()/df.shape[0]*100"
   ]
  },
  {
   "cell_type": "markdown",
   "metadata": {},
   "source": [
    "After the missing values for tapInStops have been filled, we can see that there are a few other columns with missing values that are under 5% after being cleaned. Since there are no other ways to fill the missing values we will drop them as it's under 5% and would not affect the data too much."
   ]
  },
  {
   "cell_type": "markdown",
   "metadata": {},
   "source": [
    "### **6. Dropping the Remaining Missing Values from Each Column (except payAmount)**"
   ]
  },
  {
   "cell_type": "code",
   "execution_count": 27,
   "metadata": {},
   "outputs": [],
   "source": [
    "df.dropna(subset=['corridorID', 'tapInStops', 'tapOutStops', 'stopEndSeq', 'tapOutTime'], inplace=True)"
   ]
  },
  {
   "cell_type": "code",
   "execution_count": 28,
   "metadata": {},
   "outputs": [
    {
     "data": {
      "text/plain": [
       "transID               0\n",
       "payCardID             0\n",
       "payCardBank           0\n",
       "payCardName           0\n",
       "payCardSex            0\n",
       "payCardBirthDate      0\n",
       "corridorID            0\n",
       "corridorName          0\n",
       "direction             0\n",
       "tapInStops            0\n",
       "tapInStopsName        0\n",
       "tapInStopsLat         0\n",
       "tapInStopsLon         0\n",
       "stopStartSeq          0\n",
       "tapInTime             0\n",
       "tapOutStops           0\n",
       "tapOutStopsName       0\n",
       "tapOutStopsLat        0\n",
       "tapOutStopsLon        0\n",
       "stopEndSeq            0\n",
       "tapOutTime            0\n",
       "payAmount           967\n",
       "dtype: int64"
      ]
     },
     "execution_count": 28,
     "metadata": {},
     "output_type": "execute_result"
    }
   ],
   "source": [
    "df.isna().sum()"
   ]
  },
  {
   "cell_type": "markdown",
   "metadata": {},
   "source": [
    "### **7. Cleaning the payAmount Column**"
   ]
  },
  {
   "cell_type": "markdown",
   "metadata": {},
   "source": [
    "The Transjakarta fare is set at a flat rate of Rp. 3500. However, for Royal Trans or corridors facilitating cross-Jabodetabek journeys (special), a fare of Rp. 20,000 is charged. Additionally, certain stops or conditions may offer a fare of Rp. 0, such as in JAK Lingko. Missing values in this column are assigned based on two conditions: if the corridor serves cross-Jabodetabek trips, it is filled with a fare amount of Rp. 20,000; otherwise, a flat fare of Rp. 3500 applies."
   ]
  },
  {
   "cell_type": "code",
   "execution_count": 29,
   "metadata": {},
   "outputs": [
    {
     "data": {
      "text/plain": [
       "array([ 3500., 20000.,     0.,    nan])"
      ]
     },
     "execution_count": 29,
     "metadata": {},
     "output_type": "execute_result"
    }
   ],
   "source": [
    "# checking the payAmount unique values \n",
    "\n",
    "df['payAmount'].unique()"
   ]
  },
  {
   "cell_type": "code",
   "execution_count": 30,
   "metadata": {},
   "outputs": [
    {
     "data": {
      "text/plain": [
       "array(['1T', 'B14', 'T21', 'D32', 'S31', '1P', '6C', '7C', 'B13', 'D31',\n",
       "       '1K', '6P', 'S12', '1N'], dtype=object)"
      ]
     },
     "metadata": {},
     "output_type": "display_data"
    },
    {
     "data": {
      "text/plain": [
       "array(['5', '6C', 'R1A', '11D', '12', '1Q', '5M', '9A', '4', 'S22', '13',\n",
       "       '9E', 'M9', 'T11', '6V', '11Q', '11', '1C', 'M1', '7E', '1P', '7D',\n",
       "       '6H', '14', 'JIS3', '2', '6N', 'M11', '9N', '7P', '13B', 'M7',\n",
       "       '12A', '9D', '1', 'M8', 'B21', 'M3', '8K', 'M10', '10D', 'B11',\n",
       "       '8C', 'M2', '12B', '5D', '7A', '7Q', '1M', '5C', '6Q', '8E', '6M',\n",
       "       'L13E', '12P', '1F', '13C', '4B', '7C', '2A', '8A', '1E', 'M4',\n",
       "       '9H', '13D', '5N', '6T', '5F', '2P', 'S21', 'M12', '1N', '6U',\n",
       "       '10', '2B', '10K', '6D', '6A', '4F', '6B', '5B', '3', 'M6', '8',\n",
       "       '3F', 'S11', '2F', 'D32', '1H', '4C', 'M13', '8D', '4D', '7', '9C',\n",
       "       'D21', 'D11', '8M', '1B', '7F', '6', '10H', '3E', '12H', '9', '1A',\n",
       "       '11P', '11M', 'T21', 'BW9', 'M7B', '10A', '3H', '3C', '11K', 'B13',\n",
       "       '2Q', 'M5', '1R', '7B', 'M1H'], dtype=object)"
      ]
     },
     "metadata": {},
     "output_type": "display_data"
    },
    {
     "data": {
      "text/plain": [
       "array(['JAK.03', 'JAK.46', 'JAK.88', 'JAK.16', 'JAK.02', 'JAK.15',\n",
       "       'JAK.112', 'JAK.43B', 'JAK.42', 'JAK.36', 'JAK.06', 'JAK.14',\n",
       "       'JAK.71', 'JAK.77', 'JAK.44', 'JAK.19', 'JAK.75', 'JAK.52',\n",
       "       'JAK.37', 'JAK.31', 'JAK.43C', 'JAK.117', 'JAK.49', 'JAK.20',\n",
       "       'JAK.118', 'JAK.27', 'JAK.13', 'JAK.84', 'JAK.08', 'JAK.23',\n",
       "       'JAK.07', 'JAK.22', 'JAK.115', 'JAK.21', 'JAK.26', 'JAK.64',\n",
       "       'JAK.47', 'JAK.01', 'JAK.120', 'JAK.85', 'JAK.10', 'JAK.41',\n",
       "       'JAK.86', 'JAK.73', 'JAK.32', 'JAK.50', 'JAK.29', 'JAK.45',\n",
       "       'JAK.18', 'JAK.51', 'JAK.54', 'JAK.110A', 'JAK.25', 'JAK.30',\n",
       "       'JAK.39', 'JAK.80', 'JAK.11', 'JAK.17', 'JAK.58', 'JAK.34',\n",
       "       'JAK.72', 'JAK.74', 'JAK.40', 'JAK.60', 'JAK.56', 'JAK.59',\n",
       "       'JAK.113', 'JAK.04', 'JAK.38', 'JAK.61', 'JAK.24', 'JAK.35',\n",
       "       'JAK.05', 'JAK.33', 'JAK.106', 'JAK.28', 'JAK.48B', 'JAK.53',\n",
       "       'JAK.99', 'JAK.12'], dtype=object)"
      ]
     },
     "metadata": {},
     "output_type": "display_data"
    }
   ],
   "source": [
    "#Fill Missing Value on 'payAmount' based on 'corridorID'\n",
    "\n",
    "mappingRoyalTrans = df[df['payAmount'] == 20000]['corridorID'].unique()\n",
    "display(mappingRoyalTrans)\n",
    "\n",
    "mappingTJ = df.dropna(subset='corridorID')\n",
    "mappingTJ = df[(df['payAmount'] == 3500) & (~df['corridorID'].str.contains('JAK'))]['corridorID'].unique()\n",
    "display(mappingTJ)\n",
    "\n",
    "mappingJakLingko = df.dropna(subset='corridorID')\n",
    "mappingJakLingko = df[(df['payAmount'] == 0) & (df['corridorID'].str.contains('JAK'))]['corridorID'].unique()\n",
    "display(mappingJakLingko)"
   ]
  },
  {
   "cell_type": "code",
   "execution_count": 31,
   "metadata": {},
   "outputs": [],
   "source": [
    "# Function to Fill Missing Value in 'payAmount' column:\n",
    "def fillna_payAmount1 (row):\n",
    "    if row['corridorID'] in mappingRoyalTrans and pd.isnull(row['payAmount']):\n",
    "        return 20000\n",
    "    elif row['corridorID'] in mappingTJ and pd.isnull(row['payAmount']):\n",
    "        return 3500\n",
    "    elif row['corridorID'] in mappingJakLingko and pd.isnull(row['payAmount']):\n",
    "        return 0\n",
    "    return row['payAmount']"
   ]
  },
  {
   "cell_type": "code",
   "execution_count": 32,
   "metadata": {},
   "outputs": [],
   "source": [
    "df['payAmount'] = df.apply(fillna_payAmount1, axis=1)"
   ]
  },
  {
   "cell_type": "code",
   "execution_count": 33,
   "metadata": {},
   "outputs": [
    {
     "data": {
      "text/plain": [
       "242"
      ]
     },
     "execution_count": 33,
     "metadata": {},
     "output_type": "execute_result"
    }
   ],
   "source": [
    "df['payAmount'].isna().sum()"
   ]
  },
  {
   "cell_type": "code",
   "execution_count": 34,
   "metadata": {},
   "outputs": [
    {
     "data": {
      "text/plain": [
       "corridorID\n",
       "JAK.48A    242\n",
       "Name: count, dtype: int64"
      ]
     },
     "execution_count": 34,
     "metadata": {},
     "output_type": "execute_result"
    }
   ],
   "source": [
    "df[df['payAmount'].isna()]['corridorID'].value_counts()"
   ]
  },
  {
   "cell_type": "code",
   "execution_count": 35,
   "metadata": {},
   "outputs": [],
   "source": [
    "#Fill Missing Value 'payAmount' based on 'corridorID' with condition the values are 'JAK.48A'\n",
    "df.loc[(df['corridorID'] == 'JAK.48A') & (df['payAmount'].isna()), 'payAmount'] = 0"
   ]
  },
  {
   "cell_type": "markdown",
   "metadata": {},
   "source": [
    "The code above is used to fill in the missing values from the JAK column, which uses 0 rupiah as fare as it is free."
   ]
  },
  {
   "cell_type": "code",
   "execution_count": 36,
   "metadata": {},
   "outputs": [
    {
     "data": {
      "text/plain": [
       "transID             0\n",
       "payCardID           0\n",
       "payCardBank         0\n",
       "payCardName         0\n",
       "payCardSex          0\n",
       "payCardBirthDate    0\n",
       "corridorID          0\n",
       "corridorName        0\n",
       "direction           0\n",
       "tapInStops          0\n",
       "tapInStopsName      0\n",
       "tapInStopsLat       0\n",
       "tapInStopsLon       0\n",
       "stopStartSeq        0\n",
       "tapInTime           0\n",
       "tapOutStops         0\n",
       "tapOutStopsName     0\n",
       "tapOutStopsLat      0\n",
       "tapOutStopsLon      0\n",
       "stopEndSeq          0\n",
       "tapOutTime          0\n",
       "payAmount           0\n",
       "dtype: int64"
      ]
     },
     "execution_count": 36,
     "metadata": {},
     "output_type": "execute_result"
    }
   ],
   "source": [
    "df.isna().sum()"
   ]
  },
  {
   "cell_type": "markdown",
   "metadata": {},
   "source": [
    "The data is fully cleaned of missing values."
   ]
  },
  {
   "cell_type": "markdown",
   "metadata": {},
   "source": [
    "### **8. Time Modification**"
   ]
  },
  {
   "cell_type": "code",
   "execution_count": 37,
   "metadata": {},
   "outputs": [],
   "source": [
    "# Changing the time dataType into dateTime\n",
    "df['tapInTime'] = pd.to_datetime(df['tapInTime'])\n",
    "df['tapOutTime'] = pd.to_datetime(df['tapOutTime'])"
   ]
  },
  {
   "cell_type": "code",
   "execution_count": 38,
   "metadata": {},
   "outputs": [],
   "source": [
    "df['tapInHour'] = df['tapInTime'].dt.hour"
   ]
  },
  {
   "cell_type": "code",
   "execution_count": 39,
   "metadata": {},
   "outputs": [],
   "source": [
    "df['tapOutHour'] = df['tapOutTime'].dt.hour"
   ]
  },
  {
   "cell_type": "code",
   "execution_count": 40,
   "metadata": {},
   "outputs": [],
   "source": [
    "# Day \n",
    "\n",
    "df['tapInDay'] = df['tapInTime'].dt.dayofweek"
   ]
  },
  {
   "cell_type": "code",
   "execution_count": 41,
   "metadata": {},
   "outputs": [],
   "source": [
    "tapInDay = {\n",
    "    0: 'Monday',\n",
    "    1: 'Tuesday',\n",
    "    2: 'Wednesday',\n",
    "    3: 'Thursday',\n",
    "    4: 'Friday',\n",
    "    5: 'Saturday',\n",
    "    6: 'Sunday'\n",
    "}"
   ]
  },
  {
   "cell_type": "code",
   "execution_count": 42,
   "metadata": {},
   "outputs": [],
   "source": [
    "df['tapInDay'] = df['tapInDay'].map(tapInDay)"
   ]
  },
  {
   "cell_type": "markdown",
   "metadata": {},
   "source": [
    "### **9. Adding Columns for Age, Age Group and Bus Type**"
   ]
  },
  {
   "cell_type": "code",
   "execution_count": 43,
   "metadata": {},
   "outputs": [],
   "source": [
    "df['age'] = 2023 - df['payCardBirthDate']"
   ]
  },
  {
   "cell_type": "code",
   "execution_count": 44,
   "metadata": {},
   "outputs": [],
   "source": [
    "# dividing column by age\n",
    "\n",
    "def age_group(age):\n",
    "    if age < 15:\n",
    "        return 'Child'\n",
    "    elif 16 <= age <= 19:\n",
    "        return  'Teenager'\n",
    "    elif 20 <= age <= 30:\n",
    "        return 'Young Adult'\n",
    "    elif 31 <= age <= 59:\n",
    "        return 'Adult'\n",
    "    else:\n",
    "        return 'Elderly'"
   ]
  },
  {
   "cell_type": "code",
   "execution_count": 45,
   "metadata": {},
   "outputs": [],
   "source": [
    "df['ageGroup'] = df['age'].apply(age_group)"
   ]
  },
  {
   "cell_type": "code",
   "execution_count": 46,
   "metadata": {},
   "outputs": [
    {
     "data": {
      "text/html": [
       "<div>\n",
       "<style scoped>\n",
       "    .dataframe tbody tr th:only-of-type {\n",
       "        vertical-align: middle;\n",
       "    }\n",
       "\n",
       "    .dataframe tbody tr th {\n",
       "        vertical-align: top;\n",
       "    }\n",
       "\n",
       "    .dataframe thead th {\n",
       "        text-align: right;\n",
       "    }\n",
       "</style>\n",
       "<table border=\"1\" class=\"dataframe\">\n",
       "  <thead>\n",
       "    <tr style=\"text-align: right;\">\n",
       "      <th></th>\n",
       "      <th>transID</th>\n",
       "      <th>payCardID</th>\n",
       "      <th>payCardBank</th>\n",
       "      <th>payCardName</th>\n",
       "      <th>payCardSex</th>\n",
       "      <th>payCardBirthDate</th>\n",
       "      <th>corridorID</th>\n",
       "      <th>corridorName</th>\n",
       "      <th>direction</th>\n",
       "      <th>tapInStops</th>\n",
       "      <th>...</th>\n",
       "      <th>tapOutStopsLon</th>\n",
       "      <th>stopEndSeq</th>\n",
       "      <th>tapOutTime</th>\n",
       "      <th>payAmount</th>\n",
       "      <th>tapInHour</th>\n",
       "      <th>tapOutHour</th>\n",
       "      <th>tapInDay</th>\n",
       "      <th>age</th>\n",
       "      <th>ageGroup</th>\n",
       "      <th>transType</th>\n",
       "    </tr>\n",
       "  </thead>\n",
       "  <tbody>\n",
       "    <tr>\n",
       "      <th>0</th>\n",
       "      <td>EIIW227B8L34VB</td>\n",
       "      <td>180062659848800</td>\n",
       "      <td>emoney</td>\n",
       "      <td>Bajragin Usada</td>\n",
       "      <td>M</td>\n",
       "      <td>2008</td>\n",
       "      <td>5</td>\n",
       "      <td>Matraman Baru - Ancol</td>\n",
       "      <td>1.0</td>\n",
       "      <td>P00142</td>\n",
       "      <td>...</td>\n",
       "      <td>106.85715</td>\n",
       "      <td>12.0</td>\n",
       "      <td>2023-04-03 06:00:53</td>\n",
       "      <td>3500.0</td>\n",
       "      <td>5</td>\n",
       "      <td>6</td>\n",
       "      <td>Monday</td>\n",
       "      <td>15</td>\n",
       "      <td>Elderly</td>\n",
       "      <td>Busway</td>\n",
       "    </tr>\n",
       "    <tr>\n",
       "      <th>1</th>\n",
       "      <td>LGXO740D2N47GZ</td>\n",
       "      <td>4885331907664776</td>\n",
       "      <td>dki</td>\n",
       "      <td>Gandi Widodo</td>\n",
       "      <td>F</td>\n",
       "      <td>1997</td>\n",
       "      <td>6C</td>\n",
       "      <td>Stasiun Tebet - Karet via Patra Kuningan</td>\n",
       "      <td>0.0</td>\n",
       "      <td>B01963P</td>\n",
       "      <td>...</td>\n",
       "      <td>106.81892</td>\n",
       "      <td>21.0</td>\n",
       "      <td>2023-04-03 06:40:01</td>\n",
       "      <td>3500.0</td>\n",
       "      <td>5</td>\n",
       "      <td>6</td>\n",
       "      <td>Monday</td>\n",
       "      <td>26</td>\n",
       "      <td>Young Adult</td>\n",
       "      <td>Busway</td>\n",
       "    </tr>\n",
       "    <tr>\n",
       "      <th>2</th>\n",
       "      <td>DJWR385V2U57TO</td>\n",
       "      <td>4996225095064169</td>\n",
       "      <td>dki</td>\n",
       "      <td>Emong Wastuti</td>\n",
       "      <td>F</td>\n",
       "      <td>1992</td>\n",
       "      <td>R1A</td>\n",
       "      <td>Pantai Maju - Kota</td>\n",
       "      <td>0.0</td>\n",
       "      <td>B00499P</td>\n",
       "      <td>...</td>\n",
       "      <td>106.81475</td>\n",
       "      <td>39.0</td>\n",
       "      <td>2023-04-03 06:50:55</td>\n",
       "      <td>3500.0</td>\n",
       "      <td>5</td>\n",
       "      <td>6</td>\n",
       "      <td>Monday</td>\n",
       "      <td>31</td>\n",
       "      <td>Adult</td>\n",
       "      <td>Busway</td>\n",
       "    </tr>\n",
       "    <tr>\n",
       "      <th>3</th>\n",
       "      <td>JTUZ800U7C86EH</td>\n",
       "      <td>639099174703</td>\n",
       "      <td>flazz</td>\n",
       "      <td>Surya Wacana</td>\n",
       "      <td>F</td>\n",
       "      <td>1978</td>\n",
       "      <td>11D</td>\n",
       "      <td>Pulo Gebang - Pulo Gadung 2 via PIK</td>\n",
       "      <td>0.0</td>\n",
       "      <td>B05587P</td>\n",
       "      <td>...</td>\n",
       "      <td>106.93194</td>\n",
       "      <td>29.0</td>\n",
       "      <td>2023-04-03 06:28:16</td>\n",
       "      <td>3500.0</td>\n",
       "      <td>5</td>\n",
       "      <td>6</td>\n",
       "      <td>Monday</td>\n",
       "      <td>45</td>\n",
       "      <td>Adult</td>\n",
       "      <td>Busway</td>\n",
       "    </tr>\n",
       "    <tr>\n",
       "      <th>4</th>\n",
       "      <td>VMLO535V7F95NJ</td>\n",
       "      <td>570928206772</td>\n",
       "      <td>flazz</td>\n",
       "      <td>Embuh Mardhiyah</td>\n",
       "      <td>M</td>\n",
       "      <td>1982</td>\n",
       "      <td>12</td>\n",
       "      <td>Tanjung Priok - Pluit</td>\n",
       "      <td>0.0</td>\n",
       "      <td>P00239</td>\n",
       "      <td>...</td>\n",
       "      <td>106.81143</td>\n",
       "      <td>15.0</td>\n",
       "      <td>2023-04-03 06:57:03</td>\n",
       "      <td>3500.0</td>\n",
       "      <td>6</td>\n",
       "      <td>6</td>\n",
       "      <td>Monday</td>\n",
       "      <td>41</td>\n",
       "      <td>Adult</td>\n",
       "      <td>Busway</td>\n",
       "    </tr>\n",
       "    <tr>\n",
       "      <th>...</th>\n",
       "      <td>...</td>\n",
       "      <td>...</td>\n",
       "      <td>...</td>\n",
       "      <td>...</td>\n",
       "      <td>...</td>\n",
       "      <td>...</td>\n",
       "      <td>...</td>\n",
       "      <td>...</td>\n",
       "      <td>...</td>\n",
       "      <td>...</td>\n",
       "      <td>...</td>\n",
       "      <td>...</td>\n",
       "      <td>...</td>\n",
       "      <td>...</td>\n",
       "      <td>...</td>\n",
       "      <td>...</td>\n",
       "      <td>...</td>\n",
       "      <td>...</td>\n",
       "      <td>...</td>\n",
       "      <td>...</td>\n",
       "      <td>...</td>\n",
       "    </tr>\n",
       "    <tr>\n",
       "      <th>37895</th>\n",
       "      <td>ZWEC949B8Q87QG</td>\n",
       "      <td>4685818286724028395</td>\n",
       "      <td>brizzi</td>\n",
       "      <td>Kamila Mahendra</td>\n",
       "      <td>F</td>\n",
       "      <td>2004</td>\n",
       "      <td>6B</td>\n",
       "      <td>Ragunan - MH Thamrin via Semanggi</td>\n",
       "      <td>1.0</td>\n",
       "      <td>P00261</td>\n",
       "      <td>...</td>\n",
       "      <td>106.82365</td>\n",
       "      <td>13.0</td>\n",
       "      <td>2023-04-21 19:55:49</td>\n",
       "      <td>3500.0</td>\n",
       "      <td>18</td>\n",
       "      <td>19</td>\n",
       "      <td>Friday</td>\n",
       "      <td>19</td>\n",
       "      <td>Teenager</td>\n",
       "      <td>Busway</td>\n",
       "    </tr>\n",
       "    <tr>\n",
       "      <th>37896</th>\n",
       "      <td>YHHK837P6Y95GN</td>\n",
       "      <td>6502902290603767</td>\n",
       "      <td>dki</td>\n",
       "      <td>Titi Siregar</td>\n",
       "      <td>M</td>\n",
       "      <td>1974</td>\n",
       "      <td>9N</td>\n",
       "      <td>Pinang Ranti - Pramuka</td>\n",
       "      <td>1.0</td>\n",
       "      <td>P00064</td>\n",
       "      <td>...</td>\n",
       "      <td>106.88634</td>\n",
       "      <td>2.0</td>\n",
       "      <td>2023-04-18 22:28:22</td>\n",
       "      <td>3500.0</td>\n",
       "      <td>21</td>\n",
       "      <td>22</td>\n",
       "      <td>Tuesday</td>\n",
       "      <td>49</td>\n",
       "      <td>Adult</td>\n",
       "      <td>Busway</td>\n",
       "    </tr>\n",
       "    <tr>\n",
       "      <th>37897</th>\n",
       "      <td>YXPP627N4G95HO</td>\n",
       "      <td>213159426675861</td>\n",
       "      <td>emoney</td>\n",
       "      <td>drg. Zahra Nashiruddin</td>\n",
       "      <td>F</td>\n",
       "      <td>1976</td>\n",
       "      <td>1T</td>\n",
       "      <td>Cibubur - Balai Kota</td>\n",
       "      <td>1.0</td>\n",
       "      <td>B02873P</td>\n",
       "      <td>...</td>\n",
       "      <td>106.89628</td>\n",
       "      <td>14.0</td>\n",
       "      <td>2023-04-04 13:27:25</td>\n",
       "      <td>20000.0</td>\n",
       "      <td>10</td>\n",
       "      <td>13</td>\n",
       "      <td>Tuesday</td>\n",
       "      <td>47</td>\n",
       "      <td>Adult</td>\n",
       "      <td>RoyalTrans</td>\n",
       "    </tr>\n",
       "    <tr>\n",
       "      <th>37898</th>\n",
       "      <td>RGVK175U2U98UV</td>\n",
       "      <td>377840859133591</td>\n",
       "      <td>emoney</td>\n",
       "      <td>Ana Agustina</td>\n",
       "      <td>M</td>\n",
       "      <td>1976</td>\n",
       "      <td>JAK.13</td>\n",
       "      <td>Tanah Abang - Jembatan Lima</td>\n",
       "      <td>1.0</td>\n",
       "      <td>B02505P</td>\n",
       "      <td>...</td>\n",
       "      <td>106.81135</td>\n",
       "      <td>34.0</td>\n",
       "      <td>2023-04-15 20:27:50</td>\n",
       "      <td>0.0</td>\n",
       "      <td>19</td>\n",
       "      <td>20</td>\n",
       "      <td>Saturday</td>\n",
       "      <td>47</td>\n",
       "      <td>Adult</td>\n",
       "      <td>Mikrotrans</td>\n",
       "    </tr>\n",
       "    <tr>\n",
       "      <th>37899</th>\n",
       "      <td>FMZZ963S4B68ZP</td>\n",
       "      <td>501862539795</td>\n",
       "      <td>flazz</td>\n",
       "      <td>drg. Leo Najmudin</td>\n",
       "      <td>F</td>\n",
       "      <td>1985</td>\n",
       "      <td>13</td>\n",
       "      <td>Ciledug - Tendean</td>\n",
       "      <td>0.0</td>\n",
       "      <td>P00001</td>\n",
       "      <td>...</td>\n",
       "      <td>106.77752</td>\n",
       "      <td>7.0</td>\n",
       "      <td>2023-04-12 21:34:53</td>\n",
       "      <td>3500.0</td>\n",
       "      <td>21</td>\n",
       "      <td>21</td>\n",
       "      <td>Wednesday</td>\n",
       "      <td>38</td>\n",
       "      <td>Adult</td>\n",
       "      <td>Busway</td>\n",
       "    </tr>\n",
       "  </tbody>\n",
       "</table>\n",
       "<p>36471 rows × 28 columns</p>\n",
       "</div>"
      ],
      "text/plain": [
       "              transID            payCardID payCardBank  \\\n",
       "0      EIIW227B8L34VB      180062659848800      emoney   \n",
       "1      LGXO740D2N47GZ     4885331907664776         dki   \n",
       "2      DJWR385V2U57TO     4996225095064169         dki   \n",
       "3      JTUZ800U7C86EH         639099174703       flazz   \n",
       "4      VMLO535V7F95NJ         570928206772       flazz   \n",
       "...               ...                  ...         ...   \n",
       "37895  ZWEC949B8Q87QG  4685818286724028395      brizzi   \n",
       "37896  YHHK837P6Y95GN     6502902290603767         dki   \n",
       "37897  YXPP627N4G95HO      213159426675861      emoney   \n",
       "37898  RGVK175U2U98UV      377840859133591      emoney   \n",
       "37899  FMZZ963S4B68ZP         501862539795       flazz   \n",
       "\n",
       "                  payCardName payCardSex  payCardBirthDate corridorID  \\\n",
       "0              Bajragin Usada          M              2008          5   \n",
       "1                Gandi Widodo          F              1997         6C   \n",
       "2               Emong Wastuti          F              1992        R1A   \n",
       "3                Surya Wacana          F              1978        11D   \n",
       "4             Embuh Mardhiyah          M              1982         12   \n",
       "...                       ...        ...               ...        ...   \n",
       "37895         Kamila Mahendra          F              2004         6B   \n",
       "37896            Titi Siregar          M              1974         9N   \n",
       "37897  drg. Zahra Nashiruddin          F              1976         1T   \n",
       "37898            Ana Agustina          M              1976     JAK.13   \n",
       "37899       drg. Leo Najmudin          F              1985         13   \n",
       "\n",
       "                                   corridorName  direction tapInStops  ...  \\\n",
       "0                         Matraman Baru - Ancol        1.0     P00142  ...   \n",
       "1      Stasiun Tebet - Karet via Patra Kuningan        0.0    B01963P  ...   \n",
       "2                            Pantai Maju - Kota        0.0    B00499P  ...   \n",
       "3           Pulo Gebang - Pulo Gadung 2 via PIK        0.0    B05587P  ...   \n",
       "4                         Tanjung Priok - Pluit        0.0     P00239  ...   \n",
       "...                                         ...        ...        ...  ...   \n",
       "37895         Ragunan - MH Thamrin via Semanggi        1.0     P00261  ...   \n",
       "37896                    Pinang Ranti - Pramuka        1.0     P00064  ...   \n",
       "37897                      Cibubur - Balai Kota        1.0    B02873P  ...   \n",
       "37898               Tanah Abang - Jembatan Lima        1.0    B02505P  ...   \n",
       "37899                         Ciledug - Tendean        0.0     P00001  ...   \n",
       "\n",
       "      tapOutStopsLon  stopEndSeq          tapOutTime  payAmount tapInHour  \\\n",
       "0          106.85715        12.0 2023-04-03 06:00:53     3500.0         5   \n",
       "1          106.81892        21.0 2023-04-03 06:40:01     3500.0         5   \n",
       "2          106.81475        39.0 2023-04-03 06:50:55     3500.0         5   \n",
       "3          106.93194        29.0 2023-04-03 06:28:16     3500.0         5   \n",
       "4          106.81143        15.0 2023-04-03 06:57:03     3500.0         6   \n",
       "...              ...         ...                 ...        ...       ...   \n",
       "37895      106.82365        13.0 2023-04-21 19:55:49     3500.0        18   \n",
       "37896      106.88634         2.0 2023-04-18 22:28:22     3500.0        21   \n",
       "37897      106.89628        14.0 2023-04-04 13:27:25    20000.0        10   \n",
       "37898      106.81135        34.0 2023-04-15 20:27:50        0.0        19   \n",
       "37899      106.77752         7.0 2023-04-12 21:34:53     3500.0        21   \n",
       "\n",
       "      tapOutHour   tapInDay  age     ageGroup   transType  \n",
       "0              6     Monday   15      Elderly      Busway  \n",
       "1              6     Monday   26  Young Adult      Busway  \n",
       "2              6     Monday   31        Adult      Busway  \n",
       "3              6     Monday   45        Adult      Busway  \n",
       "4              6     Monday   41        Adult      Busway  \n",
       "...          ...        ...  ...          ...         ...  \n",
       "37895         19     Friday   19     Teenager      Busway  \n",
       "37896         22    Tuesday   49        Adult      Busway  \n",
       "37897         13    Tuesday   47        Adult  RoyalTrans  \n",
       "37898         20   Saturday   47        Adult  Mikrotrans  \n",
       "37899         21  Wednesday   38        Adult      Busway  \n",
       "\n",
       "[36471 rows x 28 columns]"
      ]
     },
     "execution_count": 46,
     "metadata": {},
     "output_type": "execute_result"
    }
   ],
   "source": [
    "# Making new column for payAmount classification\n",
    "def trans_type (payAmount) :\n",
    "    if payAmount == 3500:\n",
    "        return 'Busway'\n",
    "    elif payAmount == 20000:\n",
    "        return 'RoyalTrans'\n",
    "    else:\n",
    "        return 'Mikrotrans'\n",
    "    \n",
    "df['transType'] = df['payAmount'].apply(trans_type)\n",
    "\n",
    "df"
   ]
  },
  {
   "cell_type": "markdown",
   "metadata": {},
   "source": [
    "### **10. Changing Direction**"
   ]
  },
  {
   "cell_type": "code",
   "execution_count": 47,
   "metadata": {},
   "outputs": [],
   "source": [
    "df['direction'] = df['direction'].replace({0: 'departure', 1: 'arrival'})"
   ]
  },
  {
   "cell_type": "code",
   "execution_count": 48,
   "metadata": {},
   "outputs": [
    {
     "data": {
      "text/plain": [
       "array(['arrival', 'departure'], dtype=object)"
      ]
     },
     "execution_count": 48,
     "metadata": {},
     "output_type": "execute_result"
    }
   ],
   "source": [
    "df['direction'].unique()"
   ]
  },
  {
   "cell_type": "markdown",
   "metadata": {},
   "source": [
    "## **Data Insight and Analysis**"
   ]
  },
  {
   "cell_type": "markdown",
   "metadata": {},
   "source": [
    "### **1. TransJakarta Customer Profile and Behavior**"
   ]
  },
  {
   "cell_type": "markdown",
   "metadata": {},
   "source": [
    "**1.1 TransJakarta Passenger Gender Proportions**"
   ]
  },
  {
   "cell_type": "code",
   "execution_count": 49,
   "metadata": {},
   "outputs": [
    {
     "data": {
      "text/plain": [
       "payCardSex\n",
       "F    53.266979\n",
       "M    46.733021\n",
       "Name: count, dtype: float64"
      ]
     },
     "execution_count": 49,
     "metadata": {},
     "output_type": "execute_result"
    }
   ],
   "source": [
    "gender_pers = df['payCardSex'].value_counts() / len(df) * 100\n",
    "gender_pers"
   ]
  },
  {
   "cell_type": "code",
   "execution_count": 50,
   "metadata": {},
   "outputs": [
    {
     "data": {
      "image/png": "[encoded data removed]",
      "text/plain": [
       "<Figure size 640x480 with 1 Axes>"
      ]
     },
     "metadata": {},
     "output_type": "display_data"
    }
   ],
   "source": [
    "gender_pers.plot(kind='pie', autopct='%1.1f%%', startangle=140)\n",
    "plt.axis('equal')  # Equal aspect ratio ensures that pie is drawn as a circle.\n",
    "plt.title('Gender Distribution')\n",
    "plt.ylabel('')\n",
    "plt.show()"
   ]
  },
  {
   "cell_type": "markdown",
   "metadata": {},
   "source": [
    "Insight:\n",
    "\n",
    "- Female passengers make-up more than 50% of the TransJakarta passenger demographic, however without a very wide margin compared to the male passengers\n",
    "- This is an overall distribution of male and female passenger demographic, without taking into account of the age group"
   ]
  },
  {
   "cell_type": "markdown",
   "metadata": {},
   "source": [
    "**1.2 TransJakarta Passenger Proportions based on ageGroup**"
   ]
  },
  {
   "cell_type": "code",
   "execution_count": 51,
   "metadata": {},
   "outputs": [
    {
     "data": {
      "text/html": [
       "<div>\n",
       "<style scoped>\n",
       "    .dataframe tbody tr th:only-of-type {\n",
       "        vertical-align: middle;\n",
       "    }\n",
       "\n",
       "    .dataframe tbody tr th {\n",
       "        vertical-align: top;\n",
       "    }\n",
       "\n",
       "    .dataframe thead th {\n",
       "        text-align: right;\n",
       "    }\n",
       "</style>\n",
       "<table border=\"1\" class=\"dataframe\">\n",
       "  <thead>\n",
       "    <tr style=\"text-align: right;\">\n",
       "      <th></th>\n",
       "      <th>ageGroup</th>\n",
       "      <th>count</th>\n",
       "    </tr>\n",
       "  </thead>\n",
       "  <tbody>\n",
       "    <tr>\n",
       "      <th>0</th>\n",
       "      <td>Adult</td>\n",
       "      <td>20036</td>\n",
       "    </tr>\n",
       "    <tr>\n",
       "      <th>1</th>\n",
       "      <td>Young Adult</td>\n",
       "      <td>8904</td>\n",
       "    </tr>\n",
       "    <tr>\n",
       "      <th>2</th>\n",
       "      <td>Teenager</td>\n",
       "      <td>3015</td>\n",
       "    </tr>\n",
       "    <tr>\n",
       "      <th>3</th>\n",
       "      <td>Child</td>\n",
       "      <td>2929</td>\n",
       "    </tr>\n",
       "    <tr>\n",
       "      <th>4</th>\n",
       "      <td>Elderly</td>\n",
       "      <td>1587</td>\n",
       "    </tr>\n",
       "  </tbody>\n",
       "</table>\n",
       "</div>"
      ],
      "text/plain": [
       "      ageGroup  count\n",
       "0        Adult  20036\n",
       "1  Young Adult   8904\n",
       "2     Teenager   3015\n",
       "3        Child   2929\n",
       "4      Elderly   1587"
      ]
     },
     "execution_count": 51,
     "metadata": {},
     "output_type": "execute_result"
    }
   ],
   "source": [
    "# Calculate the distribution of age\n",
    "age_distribution = df['ageGroup'].value_counts().reset_index()\n",
    "age_distribution"
   ]
  },
  {
   "cell_type": "code",
   "execution_count": 52,
   "metadata": {},
   "outputs": [
    {
     "name": "stderr",
     "output_type": "stream",
     "text": [
      "C:\\Users\\Nabila\\AppData\\Local\\Temp\\ipykernel_4112\\3338463324.py:2: FutureWarning: \n",
      "\n",
      "Passing `palette` without assigning `hue` is deprecated and will be removed in v0.14.0. Assign the `x` variable to `hue` and set `legend=False` for the same effect.\n",
      "\n",
      "  sns.barplot(x='ageGroup', y='count', data=age_distribution, palette='muted')\n"
     ]
    },
    {
     "data": {
      "image/png": "[encoded data removed]",
      "text/plain": [
       "<Figure size 1000x600 with 1 Axes>"
      ]
     },
     "metadata": {},
     "output_type": "display_data"
    }
   ],
   "source": [
    "plt.figure(figsize=(10, 6))\n",
    "sns.barplot(x='ageGroup', y='count', data=age_distribution, palette='muted')\n",
    "plt.title('Distribution of Age Groups')\n",
    "plt.xlabel('Age Group')\n",
    "plt.ylabel('Count')\n",
    "plt.xticks(rotation=45)\n",
    "\n",
    "\n",
    "# Add labels for each bar\n",
    "for index, row in age_distribution.iterrows():\n",
    "    plt.text(index, row['count'], row['count'], color='black', ha='center')\n",
    "\n",
    "plt.grid(True)\n",
    "plt.show()"
   ]
  },
  {
   "cell_type": "markdown",
   "metadata": {},
   "source": [
    "Insight: \n",
    "\n",
    "- TransJakarta passenger demographic is mainly adults from the age range of 31 to 59, followed by young-adults from the age range of 20 to 30\n",
    "- The age demographic which uses TransJakarta the least is the elderly, from the age range of 59 and above \n",
    "- Teenager and children from the age range of 0 - 19 years old have similar counts "
   ]
  },
  {
   "cell_type": "markdown",
   "metadata": {},
   "source": [
    "**1.3 TransJakarta Passenger Proportions based on Gender and Age-Group**"
   ]
  },
  {
   "cell_type": "code",
   "execution_count": 53,
   "metadata": {},
   "outputs": [],
   "source": [
    "female_df = df[df['payCardSex'] == 'F']"
   ]
  },
  {
   "cell_type": "code",
   "execution_count": 54,
   "metadata": {},
   "outputs": [
    {
     "data": {
      "text/html": [
       "<div>\n",
       "<style scoped>\n",
       "    .dataframe tbody tr th:only-of-type {\n",
       "        vertical-align: middle;\n",
       "    }\n",
       "\n",
       "    .dataframe tbody tr th {\n",
       "        vertical-align: top;\n",
       "    }\n",
       "\n",
       "    .dataframe thead th {\n",
       "        text-align: right;\n",
       "    }\n",
       "</style>\n",
       "<table border=\"1\" class=\"dataframe\">\n",
       "  <thead>\n",
       "    <tr style=\"text-align: right;\">\n",
       "      <th></th>\n",
       "      <th>corridorName</th>\n",
       "      <th>count</th>\n",
       "    </tr>\n",
       "  </thead>\n",
       "  <tbody>\n",
       "    <tr>\n",
       "      <th>0</th>\n",
       "      <td>Pasar Minggu - Tanah Abang</td>\n",
       "      <td>225</td>\n",
       "    </tr>\n",
       "    <tr>\n",
       "      <th>1</th>\n",
       "      <td>Poris Plawad - Bundaran Senayan</td>\n",
       "      <td>215</td>\n",
       "    </tr>\n",
       "    <tr>\n",
       "      <th>2</th>\n",
       "      <td>Rusun Rawa Bebek - Kodamar</td>\n",
       "      <td>213</td>\n",
       "    </tr>\n",
       "    <tr>\n",
       "      <th>3</th>\n",
       "      <td>Cilangkap - Cililitan</td>\n",
       "      <td>201</td>\n",
       "    </tr>\n",
       "    <tr>\n",
       "      <th>4</th>\n",
       "      <td>Terminal Tanah Merah - Pulo Gadung</td>\n",
       "      <td>199</td>\n",
       "    </tr>\n",
       "  </tbody>\n",
       "</table>\n",
       "</div>"
      ],
      "text/plain": [
       "                         corridorName  count\n",
       "0          Pasar Minggu - Tanah Abang    225\n",
       "1     Poris Plawad - Bundaran Senayan    215\n",
       "2          Rusun Rawa Bebek - Kodamar    213\n",
       "3               Cilangkap - Cililitan    201\n",
       "4  Terminal Tanah Merah - Pulo Gadung    199"
      ]
     },
     "execution_count": 54,
     "metadata": {},
     "output_type": "execute_result"
    }
   ],
   "source": [
    "corridor_female_df = female_df['corridorName'].value_counts().reset_index()\n",
    "corridor_female_df=corridor_female_df.sort_values(by='count', ascending=False).head(5)\n",
    "corridor_female_df"
   ]
  },
  {
   "cell_type": "code",
   "execution_count": 55,
   "metadata": {},
   "outputs": [
    {
     "name": "stderr",
     "output_type": "stream",
     "text": [
      "C:\\Users\\Nabila\\AppData\\Local\\Temp\\ipykernel_4112\\2816590087.py:3: FutureWarning: \n",
      "\n",
      "Passing `palette` without assigning `hue` is deprecated and will be removed in v0.14.0. Assign the `x` variable to `hue` and set `legend=False` for the same effect.\n",
      "\n",
      "  ax = sns.barplot(x='corridorName', y='count', data=corridor_female_df, palette=transjakarta2_colors)\n"
     ]
    },
    {
     "data": {
      "image/png": "[encoded data removed]",
      "text/plain": [
       "<Figure size 800x500 with 1 Axes>"
      ]
     },
     "metadata": {},
     "output_type": "display_data"
    }
   ],
   "source": [
    "transjakarta2_colors = ['#ffa69e', '#b8f2e6', '#aed9e0', '#aed9e0', '#cbdfbd']\n",
    "plt.figure(figsize=(8, 5))\n",
    "ax = sns.barplot(x='corridorName', y='count', data=corridor_female_df, palette=transjakarta2_colors)\n",
    "\n",
    "plt.xlabel('Corridor Name')\n",
    "plt.ylabel('Frequency')\n",
    "plt.title('Corridors Mainly Used by Female Passengers')\n",
    "plt.xticks(rotation=20)\n",
    "plt.ylim(0, corridor_female_df['count'].max() * 1.1)\n",
    "sns.despine(left=True, top=True)\n",
    "max_count = corridor_female_df['count'].max()\n",
    "ax.grid(False)\n",
    "\n",
    "plt.tight_layout()\n",
    "plt.show()"
   ]
  },
  {
   "cell_type": "markdown",
   "metadata": {},
   "source": [
    "### **2. TransJakarta Peak Hours**"
   ]
  },
  {
   "cell_type": "markdown",
   "metadata": {},
   "source": [
    "**2.1 TransJakarta Peak Hours**"
   ]
  },
  {
   "cell_type": "code",
   "execution_count": 56,
   "metadata": {},
   "outputs": [
    {
     "data": {
      "text/html": [
       "<div>\n",
       "<style scoped>\n",
       "    .dataframe tbody tr th:only-of-type {\n",
       "        vertical-align: middle;\n",
       "    }\n",
       "\n",
       "    .dataframe tbody tr th {\n",
       "        vertical-align: top;\n",
       "    }\n",
       "\n",
       "    .dataframe thead th {\n",
       "        text-align: right;\n",
       "    }\n",
       "</style>\n",
       "<table border=\"1\" class=\"dataframe\">\n",
       "  <thead>\n",
       "    <tr style=\"text-align: right;\">\n",
       "      <th>tapInHour</th>\n",
       "      <th>5</th>\n",
       "      <th>6</th>\n",
       "      <th>7</th>\n",
       "      <th>8</th>\n",
       "      <th>9</th>\n",
       "      <th>10</th>\n",
       "      <th>11</th>\n",
       "      <th>12</th>\n",
       "      <th>13</th>\n",
       "      <th>14</th>\n",
       "      <th>15</th>\n",
       "      <th>16</th>\n",
       "      <th>17</th>\n",
       "      <th>18</th>\n",
       "      <th>19</th>\n",
       "      <th>20</th>\n",
       "      <th>21</th>\n",
       "    </tr>\n",
       "    <tr>\n",
       "      <th>tapInDay</th>\n",
       "      <th></th>\n",
       "      <th></th>\n",
       "      <th></th>\n",
       "      <th></th>\n",
       "      <th></th>\n",
       "      <th></th>\n",
       "      <th></th>\n",
       "      <th></th>\n",
       "      <th></th>\n",
       "      <th></th>\n",
       "      <th></th>\n",
       "      <th></th>\n",
       "      <th></th>\n",
       "      <th></th>\n",
       "      <th></th>\n",
       "      <th></th>\n",
       "      <th></th>\n",
       "    </tr>\n",
       "  </thead>\n",
       "  <tbody>\n",
       "    <tr>\n",
       "      <th>Friday</th>\n",
       "      <td>619</td>\n",
       "      <td>1084</td>\n",
       "      <td>483</td>\n",
       "      <td>527</td>\n",
       "      <td>513</td>\n",
       "      <td>23</td>\n",
       "      <td>29</td>\n",
       "      <td>23</td>\n",
       "      <td>26</td>\n",
       "      <td>1</td>\n",
       "      <td>34</td>\n",
       "      <td>621</td>\n",
       "      <td>1002</td>\n",
       "      <td>413</td>\n",
       "      <td>441</td>\n",
       "      <td>428</td>\n",
       "      <td>378</td>\n",
       "    </tr>\n",
       "    <tr>\n",
       "      <th>Monday</th>\n",
       "      <td>600</td>\n",
       "      <td>1107</td>\n",
       "      <td>524</td>\n",
       "      <td>502</td>\n",
       "      <td>489</td>\n",
       "      <td>14</td>\n",
       "      <td>26</td>\n",
       "      <td>16</td>\n",
       "      <td>35</td>\n",
       "      <td>1</td>\n",
       "      <td>26</td>\n",
       "      <td>600</td>\n",
       "      <td>1008</td>\n",
       "      <td>419</td>\n",
       "      <td>441</td>\n",
       "      <td>430</td>\n",
       "      <td>366</td>\n",
       "    </tr>\n",
       "    <tr>\n",
       "      <th>Saturday</th>\n",
       "      <td>110</td>\n",
       "      <td>91</td>\n",
       "      <td>90</td>\n",
       "      <td>116</td>\n",
       "      <td>103</td>\n",
       "      <td>88</td>\n",
       "      <td>91</td>\n",
       "      <td>109</td>\n",
       "      <td>99</td>\n",
       "      <td>79</td>\n",
       "      <td>116</td>\n",
       "      <td>111</td>\n",
       "      <td>138</td>\n",
       "      <td>106</td>\n",
       "      <td>109</td>\n",
       "      <td>103</td>\n",
       "      <td>75</td>\n",
       "    </tr>\n",
       "    <tr>\n",
       "      <th>Sunday</th>\n",
       "      <td>100</td>\n",
       "      <td>98</td>\n",
       "      <td>107</td>\n",
       "      <td>114</td>\n",
       "      <td>93</td>\n",
       "      <td>98</td>\n",
       "      <td>102</td>\n",
       "      <td>99</td>\n",
       "      <td>114</td>\n",
       "      <td>80</td>\n",
       "      <td>114</td>\n",
       "      <td>101</td>\n",
       "      <td>116</td>\n",
       "      <td>98</td>\n",
       "      <td>117</td>\n",
       "      <td>127</td>\n",
       "      <td>71</td>\n",
       "    </tr>\n",
       "    <tr>\n",
       "      <th>Thursday</th>\n",
       "      <td>621</td>\n",
       "      <td>1070</td>\n",
       "      <td>485</td>\n",
       "      <td>512</td>\n",
       "      <td>503</td>\n",
       "      <td>20</td>\n",
       "      <td>27</td>\n",
       "      <td>21</td>\n",
       "      <td>26</td>\n",
       "      <td>3</td>\n",
       "      <td>37</td>\n",
       "      <td>598</td>\n",
       "      <td>986</td>\n",
       "      <td>451</td>\n",
       "      <td>406</td>\n",
       "      <td>409</td>\n",
       "      <td>399</td>\n",
       "    </tr>\n",
       "    <tr>\n",
       "      <th>Tuesday</th>\n",
       "      <td>591</td>\n",
       "      <td>1092</td>\n",
       "      <td>525</td>\n",
       "      <td>494</td>\n",
       "      <td>496</td>\n",
       "      <td>16</td>\n",
       "      <td>26</td>\n",
       "      <td>28</td>\n",
       "      <td>20</td>\n",
       "      <td>2</td>\n",
       "      <td>28</td>\n",
       "      <td>593</td>\n",
       "      <td>1014</td>\n",
       "      <td>416</td>\n",
       "      <td>415</td>\n",
       "      <td>440</td>\n",
       "      <td>395</td>\n",
       "    </tr>\n",
       "    <tr>\n",
       "      <th>Wednesday</th>\n",
       "      <td>592</td>\n",
       "      <td>1077</td>\n",
       "      <td>478</td>\n",
       "      <td>514</td>\n",
       "      <td>517</td>\n",
       "      <td>28</td>\n",
       "      <td>26</td>\n",
       "      <td>31</td>\n",
       "      <td>17</td>\n",
       "      <td>1</td>\n",
       "      <td>31</td>\n",
       "      <td>611</td>\n",
       "      <td>1017</td>\n",
       "      <td>429</td>\n",
       "      <td>435</td>\n",
       "      <td>389</td>\n",
       "      <td>381</td>\n",
       "    </tr>\n",
       "  </tbody>\n",
       "</table>\n",
       "</div>"
      ],
      "text/plain": [
       "tapInHour   5     6    7    8    9   10   11   12   13  14   15   16    17  \\\n",
       "tapInDay                                                                     \n",
       "Friday     619  1084  483  527  513  23   29   23   26   1   34  621  1002   \n",
       "Monday     600  1107  524  502  489  14   26   16   35   1   26  600  1008   \n",
       "Saturday   110    91   90  116  103  88   91  109   99  79  116  111   138   \n",
       "Sunday     100    98  107  114   93  98  102   99  114  80  114  101   116   \n",
       "Thursday   621  1070  485  512  503  20   27   21   26   3   37  598   986   \n",
       "Tuesday    591  1092  525  494  496  16   26   28   20   2   28  593  1014   \n",
       "Wednesday  592  1077  478  514  517  28   26   31   17   1   31  611  1017   \n",
       "\n",
       "tapInHour   18   19   20   21  \n",
       "tapInDay                       \n",
       "Friday     413  441  428  378  \n",
       "Monday     419  441  430  366  \n",
       "Saturday   106  109  103   75  \n",
       "Sunday      98  117  127   71  \n",
       "Thursday   451  406  409  399  \n",
       "Tuesday    416  415  440  395  \n",
       "Wednesday  429  435  389  381  "
      ]
     },
     "execution_count": 56,
     "metadata": {},
     "output_type": "execute_result"
    }
   ],
   "source": [
    "rush_hour = pd.crosstab(df['tapInDay'], df['tapInHour'])\n",
    "rush_hour"
   ]
  },
  {
   "cell_type": "code",
   "execution_count": 57,
   "metadata": {},
   "outputs": [],
   "source": [
    "orderbyday = ['Monday', 'Tuesday', 'Wednesday', 'Thursday', 'Friday', 'Saturday', 'Sunday']\n",
    "rush_hour = rush_hour.reindex(orderbyday)"
   ]
  },
  {
   "cell_type": "code",
   "execution_count": 58,
   "metadata": {},
   "outputs": [
    {
     "data": {
      "image/png": "[encoded data removed]",
      "text/plain": [
       "<Figure size 1800x600 with 2 Axes>"
      ]
     },
     "metadata": {},
     "output_type": "display_data"
    }
   ],
   "source": [
    "custom_colors = [\"#FFD700\", \"#FFA500\", \"#FF8C00\"]\n",
    "\n",
    "plt.figure(figsize=(18, 6))\n",
    "sns.set_palette(custom_colors)\n",
    "sns.heatmap(rush_hour, annot=True,\n",
    "            annot_kws={'size': 9}, fmt='.0f',\n",
    "            cmap='plasma')\n",
    "plt.title('Rush Hour Traffic Heatmap')\n",
    "plt.show()"
   ]
  },
  {
   "cell_type": "code",
   "execution_count": 59,
   "metadata": {},
   "outputs": [
    {
     "data": {
      "image/png": "[encoded data removed]",
      "text/plain": [
       "<Figure size 1500x600 with 1 Axes>"
      ]
     },
     "metadata": {},
     "output_type": "display_data"
    }
   ],
   "source": [
    "plt.figure(figsize=(15, 6))\n",
    "\n",
    "# Assuming 'tapIn_hour' is your x-axis variable and you want to count its occurrences\n",
    "sns.lineplot(data=df['tapInHour'].value_counts().sort_index(), marker='o', color='blue')\n",
    "\n",
    "plt.title('Tap-In Hour Distribution')\n",
    "plt.xlabel('Time')\n",
    "plt.ylabel('Frequency')\n",
    "plt.grid(axis='y')\n",
    "plt.xticks(range(24))\n",
    "\n",
    "plt.show()"
   ]
  },
  {
   "cell_type": "code",
   "execution_count": 60,
   "metadata": {},
   "outputs": [
    {
     "data": {
      "image/png": "[encoded data removed]",
      "text/plain": [
       "<Figure size 1500x600 with 1 Axes>"
      ]
     },
     "metadata": {},
     "output_type": "display_data"
    }
   ],
   "source": [
    "plt.figure(figsize=(15, 6))\n",
    "\n",
    "# Assuming 'tapIn_hour' is your x-axis variable and you want to count its occurrences\n",
    "sns.lineplot(data=df['tapOutHour'].value_counts().sort_index(), marker='o', color='blue')\n",
    "\n",
    "plt.title('Tap-Out Hour Distribution')\n",
    "plt.xlabel('Time')\n",
    "plt.ylabel('Frequency')\n",
    "plt.grid(axis='y')\n",
    "plt.xticks(range(24))\n",
    "\n",
    "plt.show()"
   ]
  },
  {
   "cell_type": "code",
   "execution_count": 61,
   "metadata": {},
   "outputs": [
    {
     "data": {
      "text/html": [
       "<div>\n",
       "<style scoped>\n",
       "    .dataframe tbody tr th:only-of-type {\n",
       "        vertical-align: middle;\n",
       "    }\n",
       "\n",
       "    .dataframe tbody tr th {\n",
       "        vertical-align: top;\n",
       "    }\n",
       "\n",
       "    .dataframe thead th {\n",
       "        text-align: right;\n",
       "    }\n",
       "</style>\n",
       "<table border=\"1\" class=\"dataframe\">\n",
       "  <thead>\n",
       "    <tr style=\"text-align: right;\">\n",
       "      <th></th>\n",
       "      <th>Type</th>\n",
       "      <th>Hour</th>\n",
       "    </tr>\n",
       "  </thead>\n",
       "  <tbody>\n",
       "    <tr>\n",
       "      <th>0</th>\n",
       "      <td>tapInHour</td>\n",
       "      <td>5</td>\n",
       "    </tr>\n",
       "    <tr>\n",
       "      <th>1</th>\n",
       "      <td>tapInHour</td>\n",
       "      <td>5</td>\n",
       "    </tr>\n",
       "    <tr>\n",
       "      <th>2</th>\n",
       "      <td>tapInHour</td>\n",
       "      <td>5</td>\n",
       "    </tr>\n",
       "    <tr>\n",
       "      <th>3</th>\n",
       "      <td>tapInHour</td>\n",
       "      <td>5</td>\n",
       "    </tr>\n",
       "    <tr>\n",
       "      <th>4</th>\n",
       "      <td>tapInHour</td>\n",
       "      <td>6</td>\n",
       "    </tr>\n",
       "    <tr>\n",
       "      <th>...</th>\n",
       "      <td>...</td>\n",
       "      <td>...</td>\n",
       "    </tr>\n",
       "    <tr>\n",
       "      <th>72937</th>\n",
       "      <td>tapOutHour</td>\n",
       "      <td>19</td>\n",
       "    </tr>\n",
       "    <tr>\n",
       "      <th>72938</th>\n",
       "      <td>tapOutHour</td>\n",
       "      <td>22</td>\n",
       "    </tr>\n",
       "    <tr>\n",
       "      <th>72939</th>\n",
       "      <td>tapOutHour</td>\n",
       "      <td>13</td>\n",
       "    </tr>\n",
       "    <tr>\n",
       "      <th>72940</th>\n",
       "      <td>tapOutHour</td>\n",
       "      <td>20</td>\n",
       "    </tr>\n",
       "    <tr>\n",
       "      <th>72941</th>\n",
       "      <td>tapOutHour</td>\n",
       "      <td>21</td>\n",
       "    </tr>\n",
       "  </tbody>\n",
       "</table>\n",
       "<p>72942 rows × 2 columns</p>\n",
       "</div>"
      ],
      "text/plain": [
       "             Type  Hour\n",
       "0       tapInHour     5\n",
       "1       tapInHour     5\n",
       "2       tapInHour     5\n",
       "3       tapInHour     5\n",
       "4       tapInHour     6\n",
       "...           ...   ...\n",
       "72937  tapOutHour    19\n",
       "72938  tapOutHour    22\n",
       "72939  tapOutHour    13\n",
       "72940  tapOutHour    20\n",
       "72941  tapOutHour    21\n",
       "\n",
       "[72942 rows x 2 columns]"
      ]
     },
     "execution_count": 61,
     "metadata": {},
     "output_type": "execute_result"
    }
   ],
   "source": [
    "# combining both tap in hour and tap in time \n",
    "df_combined_hour = df.melt(value_vars=['tapInHour', 'tapOutHour'], \n",
    "                         var_name='Type', \n",
    "                         value_name='Hour')\n",
    "df_combined_hour"
   ]
  },
  {
   "cell_type": "code",
   "execution_count": 62,
   "metadata": {},
   "outputs": [
    {
     "data": {
      "image/png": "[encoded data removed]",
      "text/plain": [
       "<Figure size 1500x600 with 1 Axes>"
      ]
     },
     "metadata": {},
     "output_type": "display_data"
    }
   ],
   "source": [
    "plt.figure(figsize=(15, 6))\n",
    "\n",
    "# Assuming df_combined_hour is your DataFrame and you want to plot the count of 'Type' over 'Hour'\n",
    "# Aggregate the data by 'Hour' and 'Type' and calculate the count\n",
    "count_data = df_combined_hour.groupby(['Hour', 'Type']).size().reset_index(name='Count')\n",
    "\n",
    "# Create line plot using seaborn\n",
    "sns.lineplot(data=count_data, x='Hour', y='Count', hue='Type', palette='viridis', marker='o')\n",
    "\n",
    "plt.title('Distribusi Jam Tap-In dan Tap-Out')\n",
    "plt.xlabel('Jam')\n",
    "plt.ylabel('Jumlah')\n",
    "plt.grid(axis='y')\n",
    "plt.legend(title='Type', labels=['Tap-In', 'Tap-Out'])\n",
    "\n",
    "plt.show()"
   ]
  },
  {
   "cell_type": "markdown",
   "metadata": {},
   "source": [
    "Insight:\n",
    "\n"
   ]
  },
  {
   "cell_type": "markdown",
   "metadata": {},
   "source": [
    "### **3. Busiest Corridors**"
   ]
  },
  {
   "cell_type": "markdown",
   "metadata": {},
   "source": [
    "**3.1 Busiest Corridors based on Weekdays**"
   ]
  },
  {
   "cell_type": "code",
   "execution_count": 63,
   "metadata": {},
   "outputs": [],
   "source": [
    "weekday = df[(df['tapInDay']!='Saturday') & (df['tapInDay']!='Sunday')]"
   ]
  },
  {
   "cell_type": "code",
   "execution_count": 64,
   "metadata": {},
   "outputs": [
    {
     "data": {
      "text/html": [
       "<div>\n",
       "<style scoped>\n",
       "    .dataframe tbody tr th:only-of-type {\n",
       "        vertical-align: middle;\n",
       "    }\n",
       "\n",
       "    .dataframe tbody tr th {\n",
       "        vertical-align: top;\n",
       "    }\n",
       "\n",
       "    .dataframe thead th {\n",
       "        text-align: right;\n",
       "    }\n",
       "</style>\n",
       "<table border=\"1\" class=\"dataframe\">\n",
       "  <thead>\n",
       "    <tr style=\"text-align: right;\">\n",
       "      <th></th>\n",
       "      <th>corridorName</th>\n",
       "      <th>corridorID</th>\n",
       "      <th>tap_in_counts</th>\n",
       "    </tr>\n",
       "  </thead>\n",
       "  <tbody>\n",
       "    <tr>\n",
       "      <th>0</th>\n",
       "      <td>Andara - Stasiun Universitas Pancasila</td>\n",
       "      <td>JAK.44</td>\n",
       "      <td>228</td>\n",
       "    </tr>\n",
       "    <tr>\n",
       "      <th>1</th>\n",
       "      <td>BKN - Blok M</td>\n",
       "      <td>6U</td>\n",
       "      <td>1</td>\n",
       "    </tr>\n",
       "    <tr>\n",
       "      <th>2</th>\n",
       "      <td>BKN - Blok M</td>\n",
       "      <td>M7B</td>\n",
       "      <td>288</td>\n",
       "    </tr>\n",
       "    <tr>\n",
       "      <th>3</th>\n",
       "      <td>BSD - Jelambar</td>\n",
       "      <td>S11</td>\n",
       "      <td>115</td>\n",
       "    </tr>\n",
       "    <tr>\n",
       "      <th>4</th>\n",
       "      <td>BSD Serpong - Fatmawati</td>\n",
       "      <td>S12</td>\n",
       "      <td>78</td>\n",
       "    </tr>\n",
       "    <tr>\n",
       "      <th>5</th>\n",
       "      <td>Batusari - Grogol</td>\n",
       "      <td>8K</td>\n",
       "      <td>242</td>\n",
       "    </tr>\n",
       "    <tr>\n",
       "      <th>6</th>\n",
       "      <td>Bekasi Barat - Blok M</td>\n",
       "      <td>B13</td>\n",
       "      <td>117</td>\n",
       "    </tr>\n",
       "    <tr>\n",
       "      <th>7</th>\n",
       "      <td>Bekasi Barat - Kuningan</td>\n",
       "      <td>B14</td>\n",
       "      <td>207</td>\n",
       "    </tr>\n",
       "    <tr>\n",
       "      <th>8</th>\n",
       "      <td>Bekasi Timur - Cawang</td>\n",
       "      <td>B21</td>\n",
       "      <td>205</td>\n",
       "    </tr>\n",
       "    <tr>\n",
       "      <th>9</th>\n",
       "      <td>Bintara - Cipinang Indah</td>\n",
       "      <td>JAK.85</td>\n",
       "      <td>124</td>\n",
       "    </tr>\n",
       "  </tbody>\n",
       "</table>\n",
       "</div>"
      ],
      "text/plain": [
       "                             corridorName corridorID  tap_in_counts\n",
       "0  Andara - Stasiun Universitas Pancasila     JAK.44            228\n",
       "1                            BKN - Blok M         6U              1\n",
       "2                            BKN - Blok M        M7B            288\n",
       "3                          BSD - Jelambar        S11            115\n",
       "4                 BSD Serpong - Fatmawati        S12             78\n",
       "5                       Batusari - Grogol         8K            242\n",
       "6                   Bekasi Barat - Blok M        B13            117\n",
       "7                 Bekasi Barat - Kuningan        B14            207\n",
       "8                   Bekasi Timur - Cawang        B21            205\n",
       "9                Bintara - Cipinang Indah     JAK.85            124"
      ]
     },
     "execution_count": 64,
     "metadata": {},
     "output_type": "execute_result"
    }
   ],
   "source": [
    "busiest_weekdays = weekday.groupby(['corridorName', 'corridorID']).size().reset_index(name='tap_in_counts')\n",
    "busiest_weekdays.head(10)"
   ]
  },
  {
   "cell_type": "code",
   "execution_count": 65,
   "metadata": {},
   "outputs": [
    {
     "name": "stderr",
     "output_type": "stream",
     "text": [
      "C:\\Users\\Nabila\\AppData\\Local\\Temp\\ipykernel_4112\\4070180113.py:6: FutureWarning: \n",
      "\n",
      "Passing `palette` without assigning `hue` is deprecated and will be removed in v0.14.0. Assign the `y` variable to `hue` and set `legend=False` for the same effect.\n",
      "\n",
      "  sns.barplot(x='tap_in_counts', y='corridorName', data=busiest_weekdays_top10, palette='viridis')\n"
     ]
    },
    {
     "data": {
      "image/png": "[encoded data removed]",
      "text/plain": [
       "<Figure size 1000x600 with 1 Axes>"
      ]
     },
     "metadata": {},
     "output_type": "display_data"
    }
   ],
   "source": [
    "# Sort the DataFrame by 'tapIn_counts' in descending order and select the top 10 rows\n",
    "busiest_weekdays_top10 = busiest_weekdays.sort_values(by='tap_in_counts', ascending=False).head(10)\n",
    "\n",
    "# Create the bar plot\n",
    "plt.figure(figsize=(10, 6))\n",
    "sns.barplot(x='tap_in_counts', y='corridorName', data=busiest_weekdays_top10, palette='viridis')\n",
    "plt.xlabel('Number of Tap-Ins')\n",
    "plt.ylabel('Corridor Name')\n",
    "plt.title('Top 10 Busiest Corridors on Weekdays')\n",
    "plt.show()"
   ]
  },
  {
   "cell_type": "markdown",
   "metadata": {},
   "source": [
    "Insight:\n",
    "\n",
    "- On weekdays the busiest corridors are Cibubur - Balai Kota, followed by Ciputat - CSW, and Kampung Rambutan - Pondok Gede "
   ]
  },
  {
   "cell_type": "code",
   "execution_count": 66,
   "metadata": {},
   "outputs": [],
   "source": [
    "weekend = df[(df['tapInDay']=='Saturday') | (df['tapInDay']=='Sunday')]"
   ]
  },
  {
   "cell_type": "code",
   "execution_count": 67,
   "metadata": {},
   "outputs": [
    {
     "data": {
      "text/html": [
       "<div>\n",
       "<style scoped>\n",
       "    .dataframe tbody tr th:only-of-type {\n",
       "        vertical-align: middle;\n",
       "    }\n",
       "\n",
       "    .dataframe tbody tr th {\n",
       "        vertical-align: top;\n",
       "    }\n",
       "\n",
       "    .dataframe thead th {\n",
       "        text-align: right;\n",
       "    }\n",
       "</style>\n",
       "<table border=\"1\" class=\"dataframe\">\n",
       "  <thead>\n",
       "    <tr style=\"text-align: right;\">\n",
       "      <th></th>\n",
       "      <th>corridorName</th>\n",
       "      <th>corridorID</th>\n",
       "      <th>tapIn_counts</th>\n",
       "    </tr>\n",
       "  </thead>\n",
       "  <tbody>\n",
       "    <tr>\n",
       "      <th>0</th>\n",
       "      <td>Andara - Stasiun Universitas Pancasila</td>\n",
       "      <td>JAK.44</td>\n",
       "      <td>10</td>\n",
       "    </tr>\n",
       "    <tr>\n",
       "      <th>1</th>\n",
       "      <td>BKN - Blok M</td>\n",
       "      <td>M7B</td>\n",
       "      <td>19</td>\n",
       "    </tr>\n",
       "    <tr>\n",
       "      <th>2</th>\n",
       "      <td>BSD - Jelambar</td>\n",
       "      <td>S11</td>\n",
       "      <td>9</td>\n",
       "    </tr>\n",
       "    <tr>\n",
       "      <th>3</th>\n",
       "      <td>BSD Serpong - Fatmawati</td>\n",
       "      <td>S12</td>\n",
       "      <td>15</td>\n",
       "    </tr>\n",
       "    <tr>\n",
       "      <th>4</th>\n",
       "      <td>Batusari - Grogol</td>\n",
       "      <td>8K</td>\n",
       "      <td>10</td>\n",
       "    </tr>\n",
       "    <tr>\n",
       "      <th>5</th>\n",
       "      <td>Bekasi Barat - Blok M</td>\n",
       "      <td>B13</td>\n",
       "      <td>12</td>\n",
       "    </tr>\n",
       "    <tr>\n",
       "      <th>6</th>\n",
       "      <td>Bekasi Barat - Kuningan</td>\n",
       "      <td>B14</td>\n",
       "      <td>19</td>\n",
       "    </tr>\n",
       "    <tr>\n",
       "      <th>7</th>\n",
       "      <td>Bekasi Timur - Cawang</td>\n",
       "      <td>B21</td>\n",
       "      <td>12</td>\n",
       "    </tr>\n",
       "    <tr>\n",
       "      <th>8</th>\n",
       "      <td>Bintara - Cipinang Indah</td>\n",
       "      <td>JAK.85</td>\n",
       "      <td>14</td>\n",
       "    </tr>\n",
       "    <tr>\n",
       "      <th>9</th>\n",
       "      <td>Bintaro - Blok M</td>\n",
       "      <td>8E</td>\n",
       "      <td>12</td>\n",
       "    </tr>\n",
       "  </tbody>\n",
       "</table>\n",
       "</div>"
      ],
      "text/plain": [
       "                             corridorName corridorID  tapIn_counts\n",
       "0  Andara - Stasiun Universitas Pancasila     JAK.44            10\n",
       "1                            BKN - Blok M        M7B            19\n",
       "2                          BSD - Jelambar        S11             9\n",
       "3                 BSD Serpong - Fatmawati        S12            15\n",
       "4                       Batusari - Grogol         8K            10\n",
       "5                   Bekasi Barat - Blok M        B13            12\n",
       "6                 Bekasi Barat - Kuningan        B14            19\n",
       "7                   Bekasi Timur - Cawang        B21            12\n",
       "8                Bintara - Cipinang Indah     JAK.85            14\n",
       "9                        Bintaro - Blok M         8E            12"
      ]
     },
     "execution_count": 67,
     "metadata": {},
     "output_type": "execute_result"
    }
   ],
   "source": [
    "busiest_weekend = weekend.groupby(['corridorName', 'corridorID']).size().reset_index(name='tapIn_counts')\n",
    "busiest_weekend.head(10)"
   ]
  },
  {
   "cell_type": "code",
   "execution_count": 68,
   "metadata": {},
   "outputs": [
    {
     "name": "stderr",
     "output_type": "stream",
     "text": [
      "C:\\Users\\Nabila\\AppData\\Local\\Temp\\ipykernel_4112\\1654350555.py:3: FutureWarning: \n",
      "\n",
      "Passing `palette` without assigning `hue` is deprecated and will be removed in v0.14.0. Assign the `y` variable to `hue` and set `legend=False` for the same effect.\n",
      "\n",
      "  sns.barplot(x='tapIn_counts', y='corridorName', data=busiest_weekend_top10, palette='viridis')\n"
     ]
    },
    {
     "data": {
      "image/png": "[encoded data removed]",
      "text/plain": [
       "<Figure size 1000x600 with 1 Axes>"
      ]
     },
     "metadata": {},
     "output_type": "display_data"
    }
   ],
   "source": [
    "\n",
    "busiest_weekend_top10 = busiest_weekend.sort_values(by='tapIn_counts', ascending=False).head(10)\n",
    "plt.figure(figsize=(10, 6))\n",
    "sns.barplot(x='tapIn_counts', y='corridorName', data=busiest_weekend_top10, palette='viridis')\n",
    "plt.xlabel('Number of Tap-Ins')\n",
    "plt.ylabel('Corridor Name')\n",
    "plt.title('Top 10 Busiest Corridors on Weekends')\n",
    "plt.show()"
   ]
  },
  {
   "cell_type": "code",
   "execution_count": 69,
   "metadata": {},
   "outputs": [],
   "source": [
    "female_df = df[df['payCardSex'] == 'F']"
   ]
  },
  {
   "cell_type": "code",
   "execution_count": 70,
   "metadata": {},
   "outputs": [
    {
     "data": {
      "text/html": [
       "<div>\n",
       "<style scoped>\n",
       "    .dataframe tbody tr th:only-of-type {\n",
       "        vertical-align: middle;\n",
       "    }\n",
       "\n",
       "    .dataframe tbody tr th {\n",
       "        vertical-align: top;\n",
       "    }\n",
       "\n",
       "    .dataframe thead th {\n",
       "        text-align: right;\n",
       "    }\n",
       "</style>\n",
       "<table border=\"1\" class=\"dataframe\">\n",
       "  <thead>\n",
       "    <tr style=\"text-align: right;\">\n",
       "      <th></th>\n",
       "      <th>corridorName</th>\n",
       "      <th>count</th>\n",
       "    </tr>\n",
       "  </thead>\n",
       "  <tbody>\n",
       "    <tr>\n",
       "      <th>0</th>\n",
       "      <td>Pasar Minggu - Tanah Abang</td>\n",
       "      <td>225</td>\n",
       "    </tr>\n",
       "    <tr>\n",
       "      <th>1</th>\n",
       "      <td>Poris Plawad - Bundaran Senayan</td>\n",
       "      <td>215</td>\n",
       "    </tr>\n",
       "    <tr>\n",
       "      <th>2</th>\n",
       "      <td>Rusun Rawa Bebek - Kodamar</td>\n",
       "      <td>213</td>\n",
       "    </tr>\n",
       "    <tr>\n",
       "      <th>3</th>\n",
       "      <td>Cilangkap - Cililitan</td>\n",
       "      <td>201</td>\n",
       "    </tr>\n",
       "    <tr>\n",
       "      <th>4</th>\n",
       "      <td>Terminal Tanah Merah - Pulo Gadung</td>\n",
       "      <td>199</td>\n",
       "    </tr>\n",
       "  </tbody>\n",
       "</table>\n",
       "</div>"
      ],
      "text/plain": [
       "                         corridorName  count\n",
       "0          Pasar Minggu - Tanah Abang    225\n",
       "1     Poris Plawad - Bundaran Senayan    215\n",
       "2          Rusun Rawa Bebek - Kodamar    213\n",
       "3               Cilangkap - Cililitan    201\n",
       "4  Terminal Tanah Merah - Pulo Gadung    199"
      ]
     },
     "execution_count": 70,
     "metadata": {},
     "output_type": "execute_result"
    }
   ],
   "source": [
    "corridor_female_df = female_df['corridorName'].value_counts().reset_index()\n",
    "corridor_female_df=corridor_female_df.sort_values(by='count', ascending=False).head(5)\n",
    "corridor_female_df"
   ]
  },
  {
   "cell_type": "code",
   "execution_count": 71,
   "metadata": {},
   "outputs": [
    {
     "data": {
      "text/html": [
       "<div>\n",
       "<style scoped>\n",
       "    .dataframe tbody tr th:only-of-type {\n",
       "        vertical-align: middle;\n",
       "    }\n",
       "\n",
       "    .dataframe tbody tr th {\n",
       "        vertical-align: top;\n",
       "    }\n",
       "\n",
       "    .dataframe thead th {\n",
       "        text-align: right;\n",
       "    }\n",
       "</style>\n",
       "<table border=\"1\" class=\"dataframe\">\n",
       "  <thead>\n",
       "    <tr style=\"text-align: right;\">\n",
       "      <th></th>\n",
       "      <th>ageGroup</th>\n",
       "      <th>corridorName</th>\n",
       "      <th>count</th>\n",
       "    </tr>\n",
       "  </thead>\n",
       "  <tbody>\n",
       "    <tr>\n",
       "      <th>162</th>\n",
       "      <td>Adult</td>\n",
       "      <td>Rusun Pondok Bambu - Walikota Jakarta Timur</td>\n",
       "      <td>246</td>\n",
       "    </tr>\n",
       "    <tr>\n",
       "      <th>737</th>\n",
       "      <td>Young Adult</td>\n",
       "      <td>Kampung Melayu - Pulo Gebang via BKT</td>\n",
       "      <td>132</td>\n",
       "    </tr>\n",
       "    <tr>\n",
       "      <th>562</th>\n",
       "      <td>Teenager</td>\n",
       "      <td>Kampung Rambutan - Pondok Gede</td>\n",
       "      <td>92</td>\n",
       "    </tr>\n",
       "    <tr>\n",
       "      <th>266</th>\n",
       "      <td>Child</td>\n",
       "      <td>Kampung Rambutan - Juanda via Pasar Baru</td>\n",
       "      <td>90</td>\n",
       "    </tr>\n",
       "    <tr>\n",
       "      <th>375</th>\n",
       "      <td>Elderly</td>\n",
       "      <td>BKN - Blok M</td>\n",
       "      <td>90</td>\n",
       "    </tr>\n",
       "  </tbody>\n",
       "</table>\n",
       "</div>"
      ],
      "text/plain": [
       "        ageGroup                                 corridorName  count\n",
       "162        Adult  Rusun Pondok Bambu - Walikota Jakarta Timur    246\n",
       "737  Young Adult         Kampung Melayu - Pulo Gebang via BKT    132\n",
       "562     Teenager               Kampung Rambutan - Pondok Gede     92\n",
       "266        Child     Kampung Rambutan - Juanda via Pasar Baru     90\n",
       "375      Elderly                                 BKN - Blok M     90"
      ]
     },
     "execution_count": 71,
     "metadata": {},
     "output_type": "execute_result"
    }
   ],
   "source": [
    "age_corridor_counts = df.groupby(['ageGroup', 'corridorName']).size().reset_index(name='count')\n",
    "most_used_corridors = age_corridor_counts.loc[age_corridor_counts.groupby('ageGroup')['count'].idxmax()]\n",
    "most_used_corridors_sorted = most_used_corridors.sort_values(by='count', ascending=False)\n",
    "most_used_corridors_sorted"
   ]
  },
  {
   "cell_type": "code",
   "execution_count": 72,
   "metadata": {},
   "outputs": [
    {
     "data": {
      "image/png": "[encoded data removed]",
      "text/plain": [
       "<Figure size 1000x600 with 1 Axes>"
      ]
     },
     "metadata": {},
     "output_type": "display_data"
    }
   ],
   "source": [
    "plt.figure(figsize=(10, 6))\n",
    "for age_group, group_data in most_used_corridors_sorted.groupby('ageGroup'):\n",
    "    plt.bar(group_data['corridorName'], group_data['count'], label=age_group)\n",
    "\n",
    "plt.title('Most Used Corridors by Age Group')\n",
    "plt.xlabel('Corridor Name')\n",
    "plt.ylabel('Count')\n",
    "plt.xticks(rotation=45)\n",
    "plt.legend(title='Age Group')\n",
    "plt.tight_layout()\n",
    "plt.show()\n",
    "\n"
   ]
  },
  {
   "cell_type": "code",
   "execution_count": 73,
   "metadata": {},
   "outputs": [],
   "source": [
    "elderly_df = df[df['ageGroup'] == 'Elderly']"
   ]
  },
  {
   "cell_type": "code",
   "execution_count": 74,
   "metadata": {},
   "outputs": [
    {
     "data": {
      "text/html": [
       "<div>\n",
       "<style scoped>\n",
       "    .dataframe tbody tr th:only-of-type {\n",
       "        vertical-align: middle;\n",
       "    }\n",
       "\n",
       "    .dataframe tbody tr th {\n",
       "        vertical-align: top;\n",
       "    }\n",
       "\n",
       "    .dataframe thead th {\n",
       "        text-align: right;\n",
       "    }\n",
       "</style>\n",
       "<table border=\"1\" class=\"dataframe\">\n",
       "  <thead>\n",
       "    <tr style=\"text-align: right;\">\n",
       "      <th></th>\n",
       "      <th>corridorName</th>\n",
       "      <th>count</th>\n",
       "    </tr>\n",
       "  </thead>\n",
       "  <tbody>\n",
       "    <tr>\n",
       "      <th>0</th>\n",
       "      <td>BKN - Blok M</td>\n",
       "      <td>90</td>\n",
       "    </tr>\n",
       "    <tr>\n",
       "      <th>1</th>\n",
       "      <td>Ragunan - Gelora Bung Karno</td>\n",
       "      <td>77</td>\n",
       "    </tr>\n",
       "    <tr>\n",
       "      <th>2</th>\n",
       "      <td>Poris Plawad - Bundaran Senayan</td>\n",
       "      <td>54</td>\n",
       "    </tr>\n",
       "    <tr>\n",
       "      <th>3</th>\n",
       "      <td>Pulo Gadung 2 - Dukuh Atas 2</td>\n",
       "      <td>42</td>\n",
       "    </tr>\n",
       "    <tr>\n",
       "      <th>4</th>\n",
       "      <td>Tanjung Priok - Plumpang</td>\n",
       "      <td>41</td>\n",
       "    </tr>\n",
       "  </tbody>\n",
       "</table>\n",
       "</div>"
      ],
      "text/plain": [
       "                      corridorName  count\n",
       "0                     BKN - Blok M     90\n",
       "1      Ragunan - Gelora Bung Karno     77\n",
       "2  Poris Plawad - Bundaran Senayan     54\n",
       "3     Pulo Gadung 2 - Dukuh Atas 2     42\n",
       "4         Tanjung Priok - Plumpang     41"
      ]
     },
     "execution_count": 74,
     "metadata": {},
     "output_type": "execute_result"
    }
   ],
   "source": [
    "corridor_counts = elderly_df['corridorName'].value_counts().reset_index()\n",
    "corridor_counts_sorted=corridor_counts.sort_values(by='count', ascending=False)\n",
    "top_corridors =corridor_counts_sorted.head(5)\n",
    "top_corridors"
   ]
  },
  {
   "cell_type": "code",
   "execution_count": 75,
   "metadata": {},
   "outputs": [
    {
     "data": {
      "image/png": "[encoded data removed]",
      "text/plain": [
       "<Figure size 1000x600 with 1 Axes>"
      ]
     },
     "metadata": {},
     "output_type": "display_data"
    }
   ],
   "source": [
    "plt.figure(figsize=(10, 6))\n",
    "\n",
    "plt.bar(top_corridors['corridorName'], top_corridors['count'], color='blue')\n",
    "\n",
    "plt.title('Corridors Mainly Used by the Elderly')\n",
    "plt.xlabel('Corridor Name')\n",
    "plt.ylabel('Count')\n",
    "plt.xticks(rotation=45)\n",
    "plt.tight_layout()\n",
    "plt.show()\n"
   ]
  },
  {
   "cell_type": "markdown",
   "metadata": {},
   "source": [
    "### **4. Card Payment Usage**"
   ]
  },
  {
   "cell_type": "code",
   "execution_count": 76,
   "metadata": {},
   "outputs": [
    {
     "data": {
      "text/plain": [
       "payCardBank\n",
       "dki       18013\n",
       "emoney     6625\n",
       "brizzi     3390\n",
       "flazz      3101\n",
       "online     2764\n",
       "bni        2578\n",
       "Name: count, dtype: int64"
      ]
     },
     "execution_count": 76,
     "metadata": {},
     "output_type": "execute_result"
    }
   ],
   "source": [
    "# card payment usage overall\n",
    "payment_type = df['payCardBank'].value_counts()\n",
    "payment_type.groupby(df['ageGroup']).value_counts()\n",
    "payment_type"
   ]
  },
  {
   "cell_type": "markdown",
   "metadata": {},
   "source": [
    "Insight:\n",
    "\n",
    "- In this data, it shows that DKI is the dominating payment usage from all the other payment options. However, this is revealed to be the case since TransJakarta has a partnership with DKI that causes a monopoly on the card payment usage. \n",
    "- We will find the usage of card payment based on age group for marketing analyses."
   ]
  },
  {
   "cell_type": "code",
   "execution_count": 77,
   "metadata": {},
   "outputs": [
    {
     "name": "stdout",
     "output_type": "stream",
     "text": [
      "             emoney  brizzi  flazz  online   bni\n",
      "ageGroup                                        \n",
      "Adult          3381    1880   1705    1753  1435\n",
      "Young Adult    1642     865    788     464   404\n",
      "Teenager        720     229    204     127   330\n",
      "Child           654     240    231     250   276\n",
      "Elderly         228     176    173     170   133\n"
     ]
    }
   ],
   "source": [
    "card_banks = ['emoney', 'brizzi', 'flazz', 'online', 'bni']\n",
    "counts_list = []\n",
    "\n",
    "for bank in card_banks:\n",
    "    counts = df[df['payCardBank'] == bank]['ageGroup'].value_counts()\n",
    "    counts_list.append(counts)\n",
    "\n",
    "result_df = pd.concat(counts_list, axis=1, keys=card_banks)\n",
    "print(result_df)"
   ]
  },
  {
   "cell_type": "markdown",
   "metadata": {},
   "source": [
    "Insight:\n"
   ]
  },
  {
   "cell_type": "markdown",
   "metadata": {},
   "source": [
    "## **Data Conclusion and Recommendation**"
   ]
  },
  {
   "cell_type": "markdown",
   "metadata": {},
   "source": [
    "### **Conclusion**"
   ]
  },
  {
   "cell_type": "markdown",
   "metadata": {},
   "source": [
    "1. Passenger Profile:\n",
    "    - Female passengers make up most of the TransJakarta passenger demographic, despite not being that much different from the male passenger demographic. However, due to the policy of inclusive fleets specifically for women, the urgency of special fleets for female passengers in the analyzed areas can be reconsidered. \n",
    "    - The majority of Transjakarta users fall into the adult age category (30-59 years old) and young adults (20 - 29 years old), but adjustments also need to be made to meet the needs of the elderly group, as part of PT. Transjakarta's responsibility in providing transportation facilities that are friendly and comfortable. \n",
    "2. Peak Hour Times:\n",
    "    - Peak hours are mostly located in the mornings at 5am to 9am, and in the evenings starting from 4pm to 7pm for weekdays, and on weekends peak hours are much less than weekdays but with a constant and stabile stream of passengers throughout the day. \n",
    "3. Busiest Corridors:\n",
    "    - The corridors that are busiest on weekdays are Cibubur - Balai Kota, followed by Ciputat - CSW and Kampung Rambutan - Pondok Gede. They are most commonly used for work commute as the surrounding areas is a hub for offices. The corridors that are busiest on weekends are Pinang Ranti - Kampung Rambutan, followed by Pinang Ranti - Bundaran Senayan and JIS - Terminal Muara Angke that passes through a lot of areas for socializing.  \n",
    "4. Card Payment Usage:\n",
    "    - Bank DKI holds the biggest card payment usage out of the remaining options as it has a collaboration with TransJakarta, however card usages without partnership lies on emmoney, brizzi and flazz as the top three leading usages. "
   ]
  },
  {
   "cell_type": "markdown",
   "metadata": {},
   "source": [
    "### **Reccomendations**"
   ]
  },
  {
   "cell_type": "markdown",
   "metadata": {},
   "source": [
    "1. Improving Facilities for Women:\n",
    "    - Expanding women-only bus services on corridors frequently used by female passengers. \n",
    "2. Improving Facilities for the Elderly:\n",
    "    - Provide more elderly-friendly facilities at bus stops, such as priority seating and readable information.\n",
    "    - Conduct more campaigns to improve awareness in prioritizing the elderly.\n",
    "    -  Modify fleets with more priority seating on routes commonly used by seniors.\n",
    "3. Optimization of Fleet and Facilities on Busy Corridors:\n",
    "    - Increasing fleet capacity on congested corridors. \n",
    "    - Fleet augmentation can be achieved by reallocating buses from less crowded corridors to busy ones.\n",
    "    - Ensure availability for fleets matches passenger numbers during peak times.\n",
    "4. Card Payment Usage:\n",
    "    - Market card usage catered to the age range demographic of passengers in order to optimize profit. "
   ]
  }
 ],
 "metadata": {
  "kernelspec": {
   "display_name": "Python 3",
   "language": "python",
   "name": "python3"
  },
  "language_info": {
   "codemirror_mode": {
    "name": "ipython",
    "version": 3
   },
   "file_extension": ".py",
   "mimetype": "text/x-python",
   "name": "python",
   "nbconvert_exporter": "python",
   "pygments_lexer": "ipython3",
   "version": "3.12.0"
  }
 },
 "nbformat": 4,
 "nbformat_minor": 2
}
